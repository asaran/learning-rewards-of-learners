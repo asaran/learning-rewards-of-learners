{
 "cells": [
  {
   "cell_type": "code",
   "execution_count": 1,
   "metadata": {},
   "outputs": [
    {
     "name": "stderr",
     "output_type": "stream",
     "text": [
      "Using TensorFlow backend.\n"
     ]
    }
   ],
   "source": [
    "import tensorflow as tf, numpy as np, keras as K, sys\n",
    "import keras.layers as L\n",
    "from keras.models import Model, Sequential # keras/engine/training.py\n",
    "from IPython import embed\n",
    "import ipdb\n",
    "import json\n",
    "import sys\n",
    "import time\n",
    "import os"
   ]
  },
  {
   "cell_type": "code",
   "execution_count": 2,
   "metadata": {},
   "outputs": [
    {
     "name": "stdout",
     "output_type": "stream",
     "text": [
      "Usage: ipython main.py [PredictMode?]\n",
      "Usage Predict Mode: ipython main.py 1 parameters Model.hdf5\n",
      "Usage Training Mode: ipython main.py 0 parameters\n"
     ]
    }
   ],
   "source": [
    "os.environ[\"CUDA_DEVICE_ORDER\"]=\"PCI_BUS_ID\"\n",
    "os.environ[\"CUDA_VISIBLE_DEVICES\"]=\"0\"\n",
    "\n",
    "print(\"Usage: ipython main.py [PredictMode?]\")\n",
    "print(\"Usage Predict Mode: ipython main.py 1 parameters Model.hdf5\")\n",
    "print(\"Usage Training Mode: ipython main.py 0 parameters\")"
   ]
  },
  {
   "cell_type": "code",
   "execution_count": 3,
   "metadata": {},
   "outputs": [],
   "source": [
    "# GAME_NAME = sys.argv[1]\n",
    "GAME_NAME = 'breakout'\n",
    "\n",
    "if GAME_NAME == 'breakout':\n",
    "    VAL_DATASET = ['519_AS_4083721_Jul-25-14-44-15', '528_AS_4154228_Jul-26-10-19-49', '530_AS_4157852_Jul-26-11-21-03', '567_AS_4670551_Aug-01-09-43-43', '569_AS_4673908_Aug-01-10-41-22', '579_AS_4763410_Aug-02-11-33-15', '581_AS_4767279_Aug-02-12-35-31']\n",
    "    BASE_FILE_NAME = \"/home/akanksha/learning-rewards-of-learners/data/novice-atari-head/breakout\"  \n",
    "    MODEL_DIR = \"pretrained_models/breakout\"\n",
    "\n",
    "elif GAME_NAME == 'enduro':\n",
    "    VAL_DATASET = ['632_KD_5885878_Aug-15-11-18-48', '634_KD_5890143_Aug-15-12-29-52', '635_KD_5891253_Aug-15-12-48-24', '636_KD_5892408_Aug-15-13-07-37']\n",
    "    BASE_FILE_NAME = \"/home/akanksha/learning-rewards-of-learners/data/novice-atari-head/enduro\"  \n",
    "    MODEL_DIR = \"pretrained_models/enduro\"\n",
    "\n",
    "elif GAME_NAME == 'hero':\n",
    "    VAL_DATASET = ['517_KD_4079831_Jul-25-13-39-39', '518_KD_4081171_Jul-25-14-05-39', '545_KD_4504850_Jul-30-11-41-56', '547_KD_4508017_Jul-30-12-34-28']\n",
    "    BASE_FILE_NAME = \"/home/akanksha/learning-rewards-of-learners/data/novice-atari-head/hero\"  \n",
    "    MODEL_DIR = \"pretrained_models/hero\"\n",
    "\n",
    "elif GAME_NAME == 'seaquest':\n",
    "    VAL_DATASET = ['555_KD_4589264_Jul-31-11-09-29', '557_KD_4592060_Jul-31-11-55-20', '559_KD_4595259_Jul-31-12-48-41', '625_KD_5877001_Aug-15-08-51-03', '627_KD_5879901_Aug-15-09-40-24', '630_KD_5882801_Aug-15-10-29-24', '633_KD_5887251_Aug-15-11-41-40']\n",
    "    BASE_FILE_NAME = \"/home/akanksha/learning-rewards-of-learners/data/novice-atari-head/seaquest\"  \n",
    "    MODEL_DIR = \"pretrained_models/seaquest\"\n",
    "    \n",
    "elif GAME_NAME == 'space_invaders':\n",
    "    VAL_DATASET = ['644_KD_7692518_Sep-05-09-09-52', '645_AS_7693827_Sep-05-09-31-21', '646_AS_7695048_Sep-05-09-51-40', '647_AS_7696170_Sep-05-10-10-20']\n",
    "    BASE_FILE_NAME = \"/home/akanksha/learning-rewards-of-learners/data/novice-atari-head/spaceinvaders\"  \n",
    "    MODEL_DIR = \"pretrained_models/space_invaders\"\n"
   ]
  },
  {
   "cell_type": "code",
   "execution_count": 4,
   "metadata": {},
   "outputs": [
    {
     "name": "stdout",
     "output_type": "stream",
     "text": [
      "(None, 20, 20, 32)\n",
      "(None, 9, 9, 64)\n",
      "(None, 7, 7, 64)\n",
      "(None, 9, 9, 64)\n",
      "(None, 20, 20, 32)\n",
      "(None, 84, 84, 1)\n",
      "WARNING:tensorflow:From /home/akanksha/Documents/gazeNetwork/misc_utils.py:62: calling reduce_mean (from tensorflow.python.ops.math_ops) with keep_dims is deprecated and will be removed in a future version.\n",
      "Instructions for updating:\n",
      "keep_dims is deprecated, use keepdims instead\n"
     ]
    }
   ],
   "source": [
    "LABELS_FILE_TRAIN = BASE_FILE_NAME + '-train.txt' \n",
    "LABELS_FILE_VAL =  BASE_FILE_NAME + '-val.txt' \n",
    "GAZE_POS_ASC_FILE = BASE_FILE_NAME + '.asc'\n",
    "AFFIX = '-image_past4'\n",
    "PREDICT_FILE_VAL = BASE_FILE_NAME.split('/')[-1] + AFFIX\n",
    "BATCH_SIZE = 32\n",
    "num_epoch = 50\n",
    "\n",
    "resume_model = False\n",
    "predict_mode = 1 #int(sys.argv[2]) \n",
    "dropout = 0.5#float(sys.argv[3])\n",
    "heatmap_shape = 84\n",
    "k = 4\n",
    "stride = 1\n",
    "SHAPE = (84,84,k) # height * width * channel This cannot read from file and needs to be provided here\n",
    "\n",
    "import input_utils as IU, misc_utils as MU\n",
    "# if not predict_mode: # if train\n",
    "#     expr = MU.BMU.ExprCreaterAndResumer(MODEL_DIR, postfix=\"pKf_dp%.1f_k%ds%d\" % (dropout,k,stride))\n",
    "#     expr.redirect_output_to_logfile_if_not_on(\"eldar-11\")\n",
    "\n",
    "MU.BMU.save_GPU_mem_keras()\n",
    "MU.keras_model_serialization_bug_fix()\n",
    "\n",
    "if resume_model:\n",
    "    model = expr.load_weight_and_training_config_and_state()\n",
    "    expr.printdebug(\"Checkpoint found. Resuming model at %s\" % expr.dir_lasttime)\n",
    "else:\n",
    "    ###############################\n",
    "    # Architecture of the network #\n",
    "    ###############################\n",
    "\n",
    "    inputs=L.Input(shape=SHAPE)\n",
    "    x=inputs # inputs is used by the line \"Model(inputs, ... )\" below\n",
    "    \n",
    "    conv1=L.Conv2D(32, (8,8), strides=4, padding='valid')\n",
    "    x = conv1(x)\n",
    "    print(conv1.output_shape)\n",
    "    x=L.Activation('relu')(x)\n",
    "    x=L.BatchNormalization()(x)\n",
    "    x=L.Dropout(dropout)(x)\n",
    "    \n",
    "    conv2=L.Conv2D(64, (4,4), strides=2, padding='valid')\n",
    "    x = conv2(x)\n",
    "    print(conv2.output_shape)\n",
    "    x=L.Activation('relu')(x)\n",
    "    x=L.BatchNormalization()(x)\n",
    "    x=L.Dropout(dropout)(x)\n",
    "    \n",
    "    conv3=L.Conv2D(64, (3,3), strides=1, padding='valid')\n",
    "    x = conv3(x)\n",
    "    print(conv3.output_shape)\n",
    "    x=L.Activation('relu')(x)\n",
    "    x=L.BatchNormalization()(x)\n",
    "    x=L.Dropout(dropout)(x)\n",
    "    \n",
    "    deconv1 = L.Conv2DTranspose(64, (3,3), strides=1, padding='valid')\n",
    "    x = deconv1(x)\n",
    "    print(deconv1.output_shape)\n",
    "    x=L.Activation('relu')(x)\n",
    "    x=L.BatchNormalization()(x)\n",
    "    x=L.Dropout(dropout)(x)\n",
    "\n",
    "    deconv2 = L.Conv2DTranspose(32, (4,4), strides=2, padding='valid')\n",
    "    x = deconv2(x)\n",
    "    print(deconv2.output_shape)\n",
    "    x=L.Activation('relu')(x)\n",
    "    x=L.BatchNormalization()(x)\n",
    "    x=L.Dropout(dropout)(x)         \n",
    "\n",
    "    deconv3 = L.Conv2DTranspose(1, (8,8), strides=4, padding='valid')\n",
    "    x = deconv3(x)\n",
    "    print(deconv3.output_shape)\n",
    "#    x=L.Activation('relu')(x)\n",
    "#    x=L.BatchNormalization()(x)\n",
    "\n",
    "    outputs = L.Activation(MU.my_softmax)(x)\n",
    "\n",
    "    model=Model(inputs=inputs, outputs=outputs)\n",
    "\n",
    "    opt=K.optimizers.Adadelta(lr=1.0, rho=0.95, epsilon=1e-08, decay=0.0)\n",
    "    #opt=K.optimizers.Adam(lr=0.001, beta_1=0.9, beta_2=0.999, epsilon=None, decay=0.0, amsgrad=False) \n",
    "\n",
    "    model.compile(loss=MU.my_kld, optimizer=opt, metrics=[MU.NSS])\n",
    "    #model.compile(loss=K.losses.kullback_leibler_divergence, optimizer=opt, metrics=[MU.NSS])\n",
    "    \n"
   ]
  },
  {
   "cell_type": "code",
   "execution_count": 5,
   "metadata": {},
   "outputs": [
    {
     "name": "stdout",
     "output_type": "stream",
     "text": [
      "/home/akanksha/learning-rewards-of-learners/data/novice-atari-head/breakout/519_AS_4083721_Jul-25-14-44-15/AS_4083721_55.png\n",
      "(84, 84, 1)\n",
      "/home/akanksha/learning-rewards-of-learners/data/novice-atari-head/breakout/519_AS_4083721_Jul-25-14-44-15/AS_4083721_56.png\n",
      "(84, 84, 1)\n",
      "/home/akanksha/learning-rewards-of-learners/data/novice-atari-head/breakout/519_AS_4083721_Jul-25-14-44-15/AS_4083721_57.png\n",
      "(84, 84, 1)\n",
      "/home/akanksha/learning-rewards-of-learners/data/novice-atari-head/breakout/519_AS_4083721_Jul-25-14-44-15/AS_4083721_58.png\n",
      "(84, 84, 1)\n",
      "(1, 84, 84, 4)\n"
     ]
    },
    {
     "name": "stderr",
     "output_type": "stream",
     "text": [
      "/home/akanksha/.virtualenv/t-rex/lib/python3.6/site-packages/ipykernel_launcher.py:37: DeprecationWarning: `imresize` is deprecated!\n",
      "`imresize` is deprecated in SciPy 1.0.0, and will be removed in 1.3.0.\n",
      "Use Pillow instead: ``numpy.array(Image.fromarray(arr).resize())``.\n"
     ]
    },
    {
     "name": "stdout",
     "output_type": "stream",
     "text": [
      "Predicting results...\n",
      "Predicted.\n",
      "(84, 84)\n",
      "[[[[3.14907265e-06]\n",
      "   [2.61228956e-06]\n",
      "   [2.47804564e-06]\n",
      "   ...\n",
      "   [7.38521294e-06]\n",
      "   [8.54620885e-06]\n",
      "   [1.11852196e-05]]\n",
      "\n",
      "  [[2.60886600e-06]\n",
      "   [2.12145142e-06]\n",
      "   [2.01112380e-06]\n",
      "   ...\n",
      "   [5.82150051e-06]\n",
      "   [6.82292330e-06]\n",
      "   [9.09638129e-06]]\n",
      "\n",
      "  [[2.32477350e-06]\n",
      "   [1.86854618e-06]\n",
      "   [1.77371078e-06]\n",
      "   ...\n",
      "   [4.77292679e-06]\n",
      "   [5.65563369e-06]\n",
      "   [7.63687149e-06]]\n",
      "\n",
      "  ...\n",
      "\n",
      "  [[1.25065644e-05]\n",
      "   [1.04715282e-05]\n",
      "   [9.69394114e-06]\n",
      "   ...\n",
      "   [1.12234084e-05]\n",
      "   [1.23443360e-05]\n",
      "   [1.52385701e-05]]\n",
      "\n",
      "  [[1.34848879e-05]\n",
      "   [1.13748756e-05]\n",
      "   [1.06124935e-05]\n",
      "   ...\n",
      "   [1.25244323e-05]\n",
      "   [1.37123607e-05]\n",
      "   [1.67864473e-05]]\n",
      "\n",
      "  [[1.61686003e-05]\n",
      "   [1.38764244e-05]\n",
      "   [1.31043744e-05]\n",
      "   ...\n",
      "   [1.56342121e-05]\n",
      "   [1.69577215e-05]\n",
      "   [2.03931904e-05]]]]\n"
     ]
    }
   ],
   "source": [
    "# d=IU.DatasetWithHeatmap_PastKFrames(LABELS_FILE_TRAIN, LABELS_FILE_VAL, SHAPE, heatmap_shape, GAZE_POS_ASC_FILE, k, stride)\n",
    "\n",
    "# if not predict_mode: # if train\n",
    "#     expr.dump_src_code_and_model_def(sys.argv[0], model)\n",
    "\n",
    "#     model.fit(d.train_imgs, d.train_GHmap, BATCH_SIZE, epochs=num_epoch,\n",
    "#         validation_data=(d.val_imgs, d.val_GHmap, d.val_weight),\n",
    "#         shuffle=True, sample_weight=d.train_weight, verbose=2,\n",
    "#         callbacks=[K.callbacks.TensorBoard(log_dir=expr.dir),\n",
    "#             K.callbacks.ReduceLROnPlateau(monitor='val_loss', factor=0.5, patience=3, min_lr = 0.00001),\n",
    "#             MU.BMU.PrintLrCallback()])\n",
    "    \n",
    "#     expr.save_weight_and_training_config_state(model)\n",
    "\n",
    "#     score = model.evaluate(d.val_imgs, d.val_GHmap, BATCH_SIZE, 0, sample_weight=d.val_weight)\n",
    "#     expr.printdebug(\"eval score:\" + str(score))\n",
    "import os.path as path\n",
    "import cv2\n",
    "import copy\n",
    "from scipy import misc\n",
    "\n",
    "meanfile = 'pretrained_models/breakout.mean.npy'\n",
    "mean = np.load(meanfile)\n",
    "\n",
    "img_dir = path.join(BASE_FILE_NAME, VAL_DATASET[0])\n",
    "stacked = []\n",
    "stacked_obs = np.zeros((84,84,4))\n",
    "for i in range(55,59):\n",
    "    obs = cv2.imread(img_dir+'/AS_4083721_'+str(i)+'.png')\n",
    "    print(img_dir+'/AS_4083721_'+str(i)+'.png')\n",
    "    \n",
    "#     gray = cv2.cvtColor(obs, cv2.COLOR_BGR2GRAY)\n",
    "#     resized_image = cv2.resize(gray, (84, 84)) \n",
    "#     stacked_obs[:,:,i-55] = resized_image\n",
    "    \n",
    "    img_np = np.dot(obs, [0.299, 0.587, 0.114]) # convert to grayscale\n",
    "    img_np = misc.imresize(img_np, [84, 84], interp='bilinear')\n",
    "    img_np = np.expand_dims(img_np, axis=2)\n",
    "    img_np = img_np.astype(np.float32) / 255.0\n",
    "    img_np -= mean\n",
    "    print(img_np.shape)\n",
    "    stacked_obs[:,:,i-55] = img_np.squeeze()\n",
    "    \n",
    "stacked_obs = np.expand_dims(stacked_obs, axis=0)\n",
    "\n",
    "# stacked.append(np.expand_dims(copy.deepcopy(stacked_obs),0))\n",
    "# print(stacked_obs)\n",
    "print(stacked_obs.shape)\n",
    "\n",
    "if predict_mode: # if predict\n",
    "    # model.load_weights(sys.argv[4])\n",
    "    model.load_weights('pretrained_models/breakout.hdf5')\n",
    "\n",
    "#     print \"Evaluating model...\"\n",
    "#     #train_score = model.evaluate(d.train_imgs, d.train_GHmap, BATCH_SIZE, 0)\n",
    "#     #print \"Train loss is:  \" , train_score\n",
    "#     val_score = model.evaluate(d.val_imgs, d.val_GHmap, BATCH_SIZE, 0, d.val_weight)\n",
    "#     print \"Val loss is: \" , val_score\n",
    "\n",
    "    BATCH_SIZE = 1\n",
    "    print(\"Predicting results...\")\n",
    "#     train_pred = model.predict(d.train_imgs, BATCH_SIZE) # [1] for prob\n",
    "#     val_pred = model.predict(d.val_imgs, BATCH_SIZE)\n",
    "    val_predict = model.predict(stacked_obs)\n",
    "    print(\"Predicted.\")\n",
    "    \n",
    "    print(val_predict.squeeze().shape)\n",
    "    print(val_predict)\n",
    "#     cv2.imshow('prediction', val_predict.squeeze())\n",
    "#     cv2.waitKey(0)\n",
    "    \n",
    "    # Uncomment this block to save predicted gaze heatmap for visualization\n",
    "    # print \"Converting predicted results into png files and save...\"\n",
    "    # IU.save_heatmap_png_files(d.train_fid, train_pred, TRAIN_DATASET, 'saliency/')\n",
    "    # IU.save_heatmap_png_files(d.val_fid, val_pred, VAL_DATASET, 'saliency/')\n",
    "    # print \"Done.\"\n",
    "\n",
    "#     print \"Writing predicted gaze heatmap (train) into the npz file...\"\n",
    "#     np.savez_compressed(BASE_FILE_NAME.split('/')[-1] + '-train' + AFFIX, fid=d.train_fid, heatmap=train_pred)\n",
    "#     print \"Done. Output is:\"\n",
    "#     print \" %s\" % BASE_FILE_NAME.split('/')[-1] + '-train' + AFFIX + '.npz'\n",
    "\n",
    "#     print \"Writing predicted gaze heatmap (val) into the npz file...\"\n",
    "#     np.savez_compressed(BASE_FILE_NAME.split('/')[-1] + '-val' + AFFIX, fid=d.val_fid, heatmap=val_pred)\n",
    "#     print \"Done. Output is:\"\n",
    "#     print \" %s\" % BASE_FILE_NAME.split('/')[-1] + '-val' + AFFIX + '.npz'\n"
   ]
  },
  {
   "cell_type": "code",
   "execution_count": 6,
   "metadata": {},
   "outputs": [
    {
     "name": "stdout",
     "output_type": "stream",
     "text": [
      "pygame 1.9.6\n",
      "Hello from the pygame community. https://www.pygame.org/contribute.html\n",
      "0.0023584545\n",
      "0.0023584545\n",
      "127\n",
      "-128\n",
      "127\n",
      "-128\n"
     ]
    }
   ],
   "source": [
    "# import vip_constants as V\n",
    "# import pygame\n",
    "# from pygame.constants import RESIZABLE,DOUBLEBUF,RLEACCEL\n",
    "\n",
    "# pygame.init()\n",
    "# pygame.display.set_mode((V.SCR_W, V.SCR_H), RESIZABLE | DOUBLEBUF | RLEACCEL, 32)\n",
    "# screen = pygame.display.get_surface()\n",
    "\n",
    "# if val_predict is not None:\n",
    "#     GHmap = val_predict.squeeze().transpose([1,0])\n",
    "#     print(GHmap.max())\n",
    "#     GHmap1 = GHmap / GHmap.max() * 255.0\n",
    "#     print(GHmap.max())\n",
    "#     GHmap = GHmap1.astype(np.int8)\n",
    "#     print(GHmap.max())\n",
    "#     print(GHmap.min())\n",
    "#     GHmap3 = np.repeat(GHmap[..., np.newaxis], 3, axis=-1)\n",
    "#     print(GHmap3.max())\n",
    "#     print(GHmap3.min())\n",
    "# #     cv2.imshow('prediction', GHmap)\n",
    "# #     cv2.waitKey(0)\n",
    "#     s = pygame.surfarray.make_surface(GHmap3)\n",
    "#     s.set_alpha(100)\n",
    "#     s = pygame.transform.scale(s, (V.SCR_W, V.SCR_H))\n",
    "#     screen.blit(s, (0,0))\n",
    "# #     print(GHmap)"
   ]
  },
  {
   "cell_type": "code",
   "execution_count": 9,
   "metadata": {},
   "outputs": [
    {
     "name": "stdout",
     "output_type": "stream",
     "text": [
      "0.0023584545\n",
      "255.0\n",
      "127\n"
     ]
    },
    {
     "data": {
      "image/png": "[encoded data removed]",
      "text/plain": [
       "<Figure size 432x288 with 2 Axes>"
      ]
     },
     "metadata": {
      "needs_background": "light"
     },
     "output_type": "display_data"
    }
   ],
   "source": [
    "import seaborn as sns\n",
    "import matplotlib.pylab as plt\n",
    "\n",
    "GHmap = val_predict.squeeze().transpose([1,0])\n",
    "print(GHmap.max())\n",
    "GHmap = GHmap / GHmap.max() * 255.0\n",
    "print(GHmap.max())\n",
    "GHmap = GHmap.astype(np.int8)\n",
    "print(GHmap.max())\n",
    "\n",
    "ax = sns.heatmap(GHmap, linewidth=0.5, square=True,  cmap=\"YlGnBu\")\n",
    "plt.show()"
   ]
  },
  {
   "cell_type": "code",
   "execution_count": 10,
   "metadata": {},
   "outputs": [
    {
     "name": "stdout",
     "output_type": "stream",
     "text": [
      "0.0023584545\n",
      "0.0023584545\n",
      "255\n",
      "0\n",
      "255\n",
      "0\n",
      "(210, 160, 3)\n",
      "(84, 84, 3)\n",
      "<class 'numpy.uint8'>\n",
      "<class 'numpy.uint8'>\n",
      "(210, 160, 3)\n",
      "(210, 160, 3)\n"
     ]
    }
   ],
   "source": [
    "\n",
    "GHmap = val_predict.squeeze().transpose([1,0])\n",
    "print(GHmap.max())\n",
    "GHmap1 = (GHmap - GHmap.min()) / (GHmap.max()-GHmap.min()) * 255.0\n",
    "print(GHmap.max())\n",
    "GHmap = GHmap1.astype(np.uint8)\n",
    "print(GHmap.max())\n",
    "print(GHmap.min())\n",
    "GHmap3 = np.repeat(GHmap[..., np.newaxis], 3, axis=-1)\n",
    "print(GHmap3.max())\n",
    "print(GHmap3.min())\n",
    "\n",
    "print(obs.shape)\n",
    "print(GHmap3.shape)\n",
    "# gray = cv2.cvtColor(obs, cv2.COLOR_BGR2GRAY)\n",
    "resized_map = cv2.resize(GHmap3.astype(np.uint8), (160, 210)) \n",
    "print(type(resized_map[0,0,0]))\n",
    "print(type(obs[0,0,0]))\n",
    "\n",
    "print(obs.shape)\n",
    "print(resized_map.shape)\n",
    "\n",
    "fin = cv2.addWeighted(resized_map, 0.7, obs, 0.3, 0)\n"
   ]
  },
  {
   "cell_type": "code",
   "execution_count": null,
   "metadata": {},
   "outputs": [],
   "source": [
    "cv2.imshow('blended',fin)\n",
    "cv2.waitKey(0)\n"
   ]
  },
  {
   "cell_type": "code",
   "execution_count": null,
   "metadata": {},
   "outputs": [],
   "source": [
    "cv2.destroyAllWindows()"
   ]
  },
  {
   "cell_type": "code",
   "execution_count": null,
   "metadata": {},
   "outputs": [],
   "source": []
  }
 ],
 "metadata": {
  "kernelspec": {
   "display_name": "gazeNetwork",
   "language": "python",
   "name": "gazenetwork"
  },
  "language_info": {
   "codemirror_mode": {
    "name": "ipython",
    "version": 3
   },
   "file_extension": ".py",
   "mimetype": "text/x-python",
   "name": "python",
   "nbconvert_exporter": "python",
   "pygments_lexer": "ipython3",
   "version": "3.6.7"
  }
 },
 "nbformat": 4,
 "nbformat_minor": 2
}
