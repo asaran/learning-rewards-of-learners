{
 "cells": [
  {
   "cell_type": "code",
   "execution_count": 1,
   "metadata": {},
   "outputs": [
    {
     "name": "stdout",
     "output_type": "stream",
     "text": [
      "Logging to /tmp/openai-2019-05-05-17-58-43-607080\n"
     ]
    }
   ],
   "source": [
    "import argparse\n",
    "import pickle\n",
    "import gym\n",
    "import time\n",
    "import numpy as np\n",
    "import random\n",
    "import torch\n",
    "import torch.nn as nn\n",
    "import torch.nn.functional as F\n",
    "from run_test import *\n",
    "import atari_head_dataset as ahd \n",
    "import utils\n",
    "import cv2"
   ]
  },
  {
   "cell_type": "code",
   "execution_count": 2,
   "metadata": {},
   "outputs": [],
   "source": [
    "def unnormalize_state(obs):\n",
    "    obs = obs * 255.0\n",
    "    return obs.astype('uint8')"
   ]
  },
  {
   "cell_type": "code",
   "execution_count": 3,
   "metadata": {},
   "outputs": [
    {
     "name": "stdout",
     "output_type": "stream",
     "text": [
      "env name:  breakout\n",
      "valid trials: ['198_RZ_3877709_Dec-03-16-56-11', '218_RZ_7584753_Jan-15-14-40-41', '205_RZ_4137619_Dec-06-17-09-10']\n",
      "valid trial nums: [198, 218, 205]\n",
      "1\n",
      "198 [198, 218, 205]\n",
      "randomly sampling a trial number for extra episodes in a trajectory\n",
      "1\n",
      "205 [198, 218, 205]\n",
      "randomly sampling a trial number for extra episodes in a trajectory\n"
     ]
    }
   ],
   "source": [
    "if __name__==\"__main__\":\n",
    "    env_name = \"breakout\"\n",
    "    data_dir = \"../data/atari-head/\"\n",
    "    dataset = ahd.AtariHeadDataset(env_name, data_dir)\n",
    "    "
   ]
  },
  {
   "cell_type": "code",
   "execution_count": 4,
   "metadata": {},
   "outputs": [
    {
     "name": "stdout",
     "output_type": "stream",
     "text": [
      "13702\n",
      "traj length:  5\n",
      "Max human score 554\n",
      "Min human score 2\n",
      "num non duplicate scores 5\n",
      "len demos:  5\n"
     ]
    }
   ],
   "source": [
    "    print(len(dataset.trajectories['breakout'][218]))\n",
    "    demonstrations, learning_returns, learning_rewards, learning_gaze = utils.get_preprocessed_trajectories(env_name, dataset, data_dir)"
   ]
  },
  {
   "cell_type": "code",
   "execution_count": 5,
   "metadata": {},
   "outputs": [
    {
     "name": "stdout",
     "output_type": "stream",
     "text": [
      "5\n",
      "5\n",
      "[98.25, 49.6, 97.95, 48.23, 97.67, 46.08, 97.36, 44.2, 96.95, 41.92, 96.59, 39.25, 96.24, 37.02, 96.15, 34.73, 95.92, 32.92, 95.83, 31.05, 95.78, 29.12, 95.72, 27.05, 95.72, 25.4, 95.71, 23.95, 95.78, 22.82, 95.84, 21.43, 95.79, 19.93, 95.74, 18.52, 95.7, 17.38, 95.76, 16.62, 95.81, 15.95, 95.86, 15.2, 95.88, 14.55, 95.8, 14.07, 95.75, 13.6, 95.74, 13.2, 95.84, 12.88, 95.94, 12.7, 96.01, 12.75, 96.03, 12.82, 96.09, 12.88, 96.1, 13.22, 96.17, 13.55, 96.2, 13.9, 96.25, 13.95, 96.22, 14.1, 96.21, 14.35, 96.2, 15.0, 96.19, 15.55, 96.2, 15.97, 96.22, 15.97, 96.26, 16.0, 96.26, 16.15, 96.24, 16.38, 96.15, 16.77, 96.05, 17.02, 95.95, 17.2, 95.9, 17.18, 95.9, 17.15, 95.92, 17.15]\n",
      "(1, 84, 84, 4)\n"
     ]
    }
   ],
   "source": [
    "    print(len(learning_gaze))\n",
    "    print(len(demonstrations))\n",
    "    #print(learning_rewards)\n",
    "    print((learning_gaze[0][0])) # gaze for first frame of first trajectory\n",
    "    print(demonstrations[0][0].shape)"
   ]
  },
  {
   "cell_type": "code",
   "execution_count": 7,
   "metadata": {},
   "outputs": [
    {
     "name": "stdout",
     "output_type": "stream",
     "text": [
      "(84, 84, 4)\n",
      "300\n"
     ]
    }
   ],
   "source": [
    "    from PIL import Image\n",
    "    data = demonstrations[0][200].squeeze()\n",
    "    print(data.shape)\n",
    "    print(len(learning_gaze[0][200]))\n",
    "    data = data[:,:,2]\n",
    "    data = unnormalize_state(data)\n",
    "    img = Image.fromarray(data)\n",
    "    basewidth = 600\n",
    "    wpercent = (basewidth/float(img.size[0]))\n",
    "    hsize = int((float(img.size[1])*float(wpercent)))\n",
    "    img = img.resize((basewidth,hsize), Image.ANTIALIAS)\n",
    "    img.show()"
   ]
  },
  {
   "cell_type": "code",
   "execution_count": null,
   "metadata": {},
   "outputs": [],
   "source": []
  }
 ],
 "metadata": {
  "kernelspec": {
   "display_name": "Python 3",
   "language": "python",
   "name": "python3"
  },
  "language_info": {
   "codemirror_mode": {
    "name": "ipython",
    "version": 3
   },
   "file_extension": ".py",
   "mimetype": "text/x-python",
   "name": "python",
   "nbconvert_exporter": "python",
   "pygments_lexer": "ipython3",
   "version": "3.6.7"
  }
 },
 "nbformat": 4,
 "nbformat_minor": 2
}
