{
 "cells": [
  {
   "cell_type": "code",
   "execution_count": 3,
   "metadata": {},
   "outputs": [
    {
     "name": "stdout",
     "output_type": "stream",
     "text": [
      "Logging to /tmp/openai-2019-05-07-16-58-04-221996\n"
     ]
    }
   ],
   "source": [
    "import argparse\n",
    "import pickle\n",
    "import gym\n",
    "import time\n",
    "import numpy as np\n",
    "import random\n",
    "import torch\n",
    "import torch.nn as nn\n",
    "import torch.nn.functional as F\n",
    "from run_test import *\n",
    "import atari_head_dataset as ahd \n",
    "import utils\n",
    "import cv2"
   ]
  },
  {
   "cell_type": "code",
   "execution_count": 4,
   "metadata": {},
   "outputs": [],
   "source": [
    "def unnormalize_state(obs):\n",
    "    obs = obs * 255.0\n",
    "    return obs.astype('uint8')"
   ]
  },
  {
   "cell_type": "code",
   "execution_count": 5,
   "metadata": {},
   "outputs": [
    {
     "name": "stdout",
     "output_type": "stream",
     "text": [
      "env name:  breakout\n",
      "valid trials: ['218_RZ_7584753_Jan-15-14-40-41', '205_RZ_4137619_Dec-06-17-09-10', '198_RZ_3877709_Dec-03-16-56-11']\n",
      "valid trial nums: [218, 205, 198]\n",
      "1\n",
      "205 [218, 205, 198]\n",
      "randomly sampling a trial number for extra episodes in a trajectory\n",
      "1\n",
      "198 [218, 205, 198]\n",
      "randomly sampling a trial number for extra episodes in a trajectory\n"
     ]
    }
   ],
   "source": [
    "if __name__==\"__main__\":\n",
    "    env_name = \"breakout\"\n",
    "    data_dir = \"../data/atari-head/\"\n",
    "    dataset = ahd.AtariHeadDataset(env_name, data_dir)\n",
    "    "
   ]
  },
  {
   "cell_type": "code",
   "execution_count": 7,
   "metadata": {},
   "outputs": [
    {
     "name": "stdout",
     "output_type": "stream",
     "text": [
      "13702\n",
      "traj length:  5\n",
      "Max human score 554\n",
      "Min human score 2\n",
      "num non duplicate scores 5\n",
      "len demos:  5\n",
      "89 89 89\n"
     ]
    }
   ],
   "source": [
    "    print(len(dataset.trajectories['breakout'][218]))\n",
    "    demonstrations, learning_returns, learning_rewards, learning_gaze, _ = utils.get_preprocessed_trajectories(env_name, dataset, data_dir)"
   ]
  },
  {
   "cell_type": "code",
   "execution_count": 17,
   "metadata": {},
   "outputs": [
    {
     "name": "stdout",
     "output_type": "stream",
     "text": [
      "5\n",
      "5\n",
      "[[[0. 0. 0. ... 0. 0. 0.]\n",
      "  [0. 0. 0. ... 0. 0. 0.]\n",
      "  [0. 0. 0. ... 0. 0. 0.]\n",
      "  ...\n",
      "  [0. 0. 0. ... 0. 0. 0.]\n",
      "  [0. 0. 0. ... 0. 0. 0.]\n",
      "  [0. 0. 0. ... 0. 0. 0.]]]\n",
      "(1, 84, 84, 4)\n",
      "(1, 84, 84)\n"
     ]
    }
   ],
   "source": [
    "    print(len(learning_gaze))\n",
    "    print(len(demonstrations))\n",
    "    #print(learning_rewards)\n",
    "    print((learning_gaze[0][0])) # gaze for first frame of first trajectory\n",
    "    print(demonstrations[0][0].shape)\n",
    "    print(learning_gaze[0][0].shape)"
   ]
  },
  {
   "cell_type": "code",
   "execution_count": 12,
   "metadata": {},
   "outputs": [
    {
     "name": "stdout",
     "output_type": "stream",
     "text": [
      "(84, 84, 4)\n",
      "1\n"
     ]
    }
   ],
   "source": [
    "    from PIL import Image\n",
    "    data = demonstrations[0][0].squeeze()\n",
    "    print(data.shape)\n",
    "    print(len(learning_gaze[0][0]))\n",
    "    data = data[:,:,2]\n",
    "    data = unnormalize_state(data)\n",
    "    img = Image.fromarray(data)\n",
    "    basewidth = 600\n",
    "    wpercent = (basewidth/float(img.size[0]))\n",
    "    hsize = int((float(img.size[1])*float(wpercent)))\n",
    "    img = img.resize((basewidth,hsize), Image.ANTIALIAS)\n",
    "    img.show()"
   ]
  },
  {
   "cell_type": "code",
   "execution_count": 32,
   "metadata": {},
   "outputs": [
    {
     "data": {
      "image/png": "[encoded data removed]",
      "text/plain": [
       "<Figure size 432x288 with 1 Axes>"
      ]
     },
     "metadata": {
      "needs_background": "light"
     },
     "output_type": "display_data"
    },
    {
     "name": "stdout",
     "output_type": "stream",
     "text": [
      "4.246753246753245\n",
      "1.0\n",
      "0.0\n"
     ]
    }
   ],
   "source": [
    "    import matplotlib.pyplot as plt\n",
    "    import seaborn as sns\n",
    "    gaze_map = learning_gaze[0][0].squeeze()\n",
    "    plt.imshow(gaze_map, cmap='hot', interpolation='nearest')\n",
    "    #ax = sns.heatmap(gaze_map, linewidth=0.5, cmap=\"YlGnBu\")\n",
    "    plt.show()\n",
    "    print(sum(sum(learning_gaze[0][0].squeeze())))\n",
    "    print(np.amax(learning_gaze[0][0]))\n",
    "    print(np.amin(learning_gaze[0][0]))"
   ]
  },
  {
   "cell_type": "code",
   "execution_count": 30,
   "metadata": {},
   "outputs": [],
   "source": [
    "    # overlay heatmap on image frames\n",
    "    \n",
    "   "
   ]
  },
  {
   "cell_type": "code",
   "execution_count": 33,
   "metadata": {},
   "outputs": [],
   "source": [
    "    # visualize output of 4th conv layer"
   ]
  },
  {
   "cell_type": "code",
   "execution_count": null,
   "metadata": {},
   "outputs": [],
   "source": [
    "    # overlay conv layer output on image frames"
   ]
  }
 ],
 "metadata": {
  "kernelspec": {
   "display_name": "Python 3",
   "language": "python",
   "name": "python3"
  },
  "language_info": {
   "codemirror_mode": {
    "name": "ipython",
    "version": 3
   },
   "file_extension": ".py",
   "mimetype": "text/x-python",
   "name": "python",
   "nbconvert_exporter": "python",
   "pygments_lexer": "ipython3",
   "version": "3.6.7"
  }
 },
 "nbformat": 4,
 "nbformat_minor": 2
}
