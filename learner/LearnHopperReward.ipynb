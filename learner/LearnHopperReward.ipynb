{
 "cells": [
  {
   "cell_type": "code",
   "execution_count": 1,
   "metadata": {},
   "outputs": [
    {
     "name": "stdout",
     "output_type": "stream",
     "text": [
      "Logging to /tmp/openai-2018-11-28-19-07-56-749495\n"
     ]
    }
   ],
   "source": [
    "import pickle\n",
    "import gym\n",
    "import time\n",
    "import numpy as np \n",
    "import random\n",
    "import torch\n",
    "from run_test import *\n",
    "%matplotlib inline\n",
    "import matplotlib.pylab as plt\n"
   ]
  },
  {
   "cell_type": "markdown",
   "metadata": {},
   "source": [
    "set up the code for running trajectories with pong\n"
   ]
  },
  {
   "cell_type": "code",
   "execution_count": 2,
   "metadata": {},
   "outputs": [
    {
     "name": "stderr",
     "output_type": "stream",
     "text": [
      "/home/dsbrown/anaconda3/lib/python3.6/site-packages/gym/envs/registration.py:14: PkgResourcesDeprecationWarning: Parameters to load are deprecated.  Call .resolve and .require separately.\n",
      "  result = entry_point.load(False)\n"
     ]
    },
    {
     "name": "stdout",
     "output_type": "stream",
     "text": [
      "\u001b[33mWARN: gym.spaces.Box autodetected dtype as <class 'numpy.float32'>. Please provide explicit dtype.\u001b[0m\n",
      "\u001b[33mWARN: gym.spaces.Box autodetected dtype as <class 'numpy.float32'>. Please provide explicit dtype.\u001b[0m\n"
     ]
    }
   ],
   "source": [
    "#try it just for two trajectories\n",
    "\n",
    "env_id = \"Hopper-v2\"\n",
    "task_name = \"\"\n",
    "env_type = \"mujoco\"\n",
    "\n",
    "#env id, env type, num envs, and seed\n",
    "env = make_vec_env(env_id, env_type, 1, 0,\n",
    "                   wrapper_kwargs={\n",
    "                       'clip_rewards':False,\n",
    "                       'episode_life':False,\n",
    "                   })\n",
    "\n",
    "\n",
    "env = VecNormalize(env,ob=True,ret=False,eval=True)\n",
    " \n",
    "agent = PPO2Agent(env, env_type)\n",
    "#agent = RandomAgent(env.action_space)"
   ]
  },
  {
   "cell_type": "code",
   "execution_count": 3,
   "metadata": {},
   "outputs": [
    {
     "name": "stdout",
     "output_type": "stream",
     "text": [
      "11\n"
     ]
    }
   ],
   "source": [
    "#get size of state space for neural net input\n",
    "n = env.observation_space.shape[0]\n",
    "print(n)"
   ]
  },
  {
   "cell_type": "code",
   "execution_count": 4,
   "metadata": {},
   "outputs": [],
   "source": [
    "\n",
    "def normalize_state(obs):\n",
    "    obs_highs = env.observation_space.high\n",
    "    obs_lows = env.observation_space.low\n",
    "    print(obs_highs)\n",
    "    print(obs_lows)\n",
    "    return  2.0 * (obs - obs_lows) / (obs_highs - obs_lows) - 1.0\n",
    "    #return obs / obs_highs\n"
   ]
  },
  {
   "cell_type": "code",
   "execution_count": 5,
   "metadata": {},
   "outputs": [],
   "source": [
    "#Max and min are infinite and -infinite\n",
    "#can't normalize this way!"
   ]
  },
  {
   "cell_type": "code",
   "execution_count": 16,
   "metadata": {},
   "outputs": [
    {
     "name": "stdout",
     "output_type": "stream",
     "text": [
      "['00020', '00040', '00060', '00080', '00100', '00120', '00140', '00160', '00180', '00200', '00220', '00240', '00260', '00280', '00300', '00320', '00340', '00360', '00380', '00400', '00420', '00440', '00460', '00480']\n"
     ]
    }
   ],
   "source": [
    "checkpoint_min = 20\n",
    "checkpoint_max = 480\n",
    "checkpoint_step = 20\n",
    "checkpoints = []\n",
    "for i in range(checkpoint_min, checkpoint_max + checkpoint_step, checkpoint_step):\n",
    "    if i < 100:\n",
    "        checkpoints.append('000' + str(i))\n",
    "    elif i < 1000:\n",
    "        checkpoints.append('00' + str(i))\n",
    "print(checkpoints)"
   ]
  },
  {
   "cell_type": "code",
   "execution_count": 17,
   "metadata": {
    "scrolled": true
   },
   "outputs": [
    {
     "name": "stdout",
     "output_type": "stream",
     "text": [
      "checkpoint: 00020, steps: 620, return: 645.2108759582043\n",
      "traj length 620\n",
      "demo length 0\n",
      "checkpoint: 00040, steps: 199, return: 168.67658001184464\n",
      "traj length 199\n",
      "demo length 1\n",
      "checkpoint: 00060, steps: 777, return: 801.8340438604355\n",
      "traj length 777\n",
      "demo length 2\n",
      "checkpoint: 00080, steps: 172, return: 199.99827980995178\n",
      "traj length 172\n",
      "demo length 3\n",
      "checkpoint: 00100, steps: 79, return: 106.78841018676758\n",
      "traj length 79\n",
      "demo length 4\n",
      "checkpoint: 00120, steps: 56, return: 89.60489749908447\n",
      "traj length 56\n",
      "demo length 5\n",
      "checkpoint: 00140, steps: 54, return: 91.52551531791687\n",
      "traj length 54\n",
      "demo length 6\n",
      "checkpoint: 00160, steps: 57, return: 100.79859435558319\n",
      "traj length 57\n",
      "demo length 7\n",
      "checkpoint: 00180, steps: 75, return: 142.2026106119156\n",
      "traj length 75\n",
      "demo length 8\n",
      "checkpoint: 00200, steps: 96, return: 191.19741237163544\n",
      "traj length 96\n",
      "demo length 9\n",
      "checkpoint: 00220, steps: 113, return: 218.26495671272278\n",
      "traj length 113\n",
      "demo length 10\n",
      "checkpoint: 00240, steps: 126, return: 233.56191754341125\n",
      "traj length 126\n",
      "demo length 11\n",
      "checkpoint: 00260, steps: 112, return: 201.16741406917572\n",
      "traj length 112\n",
      "demo length 12\n",
      "checkpoint: 00280, steps: 104, return: 190.62159609794617\n",
      "traj length 104\n",
      "demo length 13\n",
      "checkpoint: 00300, steps: 88, return: 168.3785561323166\n",
      "traj length 88\n",
      "demo length 14\n",
      "checkpoint: 00320, steps: 89, return: 171.8237270116806\n",
      "traj length 89\n",
      "demo length 15\n",
      "checkpoint: 00340, steps: 82, return: 148.871102809906\n",
      "traj length 82\n",
      "demo length 16\n",
      "checkpoint: 00360, steps: 75, return: 138.04380345344543\n",
      "traj length 75\n",
      "demo length 17\n",
      "checkpoint: 00380, steps: 73, return: 129.63690614700317\n",
      "traj length 73\n",
      "demo length 18\n",
      "checkpoint: 00400, steps: 77, return: 138.3592414855957\n",
      "traj length 77\n",
      "demo length 19\n",
      "checkpoint: 00420, steps: 80, return: 148.59537827968597\n",
      "traj length 80\n",
      "demo length 20\n",
      "checkpoint: 00440, steps: 71, return: 118.79765176773071\n",
      "traj length 71\n",
      "demo length 21\n",
      "checkpoint: 00460, steps: 76, return: 128.91973638534546\n",
      "traj length 76\n",
      "demo length 22\n",
      "checkpoint: 00480, steps: 72, return: 114.66172862052917\n",
      "traj length 72\n",
      "demo length 23\n",
      "[645.2108759582043, 168.67658001184464, 801.8340438604355, 199.99827980995178, 106.78841018676758, 89.60489749908447, 91.52551531791687, 100.79859435558319, 142.2026106119156, 191.19741237163544, 218.26495671272278, 233.56191754341125, 201.16741406917572, 190.62159609794617, 168.3785561323166, 171.8237270116806, 148.871102809906, 138.04380345344543, 129.63690614700317, 138.3592414855957, 148.59537827968597, 118.79765176773071, 128.91973638534546, 114.66172862052917]\n"
     ]
    }
   ],
   "source": [
    "demonstrations = []\n",
    "learning_returns = []\n",
    "for checkpoint in checkpoints:\n",
    "    \n",
    "    model_path = \"./models/\" + task_name + \"/checkpoints/\" + checkpoint\n",
    "    \n",
    "    agent.load(model_path)\n",
    "    episode_count = 1\n",
    "    for i in range(episode_count):\n",
    "        done = False\n",
    "        traj = []\n",
    "        r = 0\n",
    "        \n",
    "        ob = env.reset()\n",
    "        #traj.append(ob)\n",
    "        #print(ob.shape)\n",
    "        steps = 0\n",
    "        acc_reward = 0\n",
    "        while True:\n",
    "            action = agent.act(ob, r, done)\n",
    "            ob, r, done, _ = env.step(action)\n",
    "            #print(ob.shape)\n",
    "            traj.append(ob)\n",
    "            steps += 1\n",
    "            acc_reward += r[0]\n",
    "            if done:\n",
    "                print(\"checkpoint: {}, steps: {}, return: {}\".format(checkpoint, steps,acc_reward))\n",
    "                break\n",
    "        print(\"traj length\", len(traj))\n",
    "        print(\"demo length\", len(demonstrations))\n",
    "        demonstrations.append(traj)\n",
    "        learning_returns.append(acc_reward)\n",
    "    \n",
    "\n",
    "\n",
    "env.close()\n",
    "\n",
    "\n",
    "    \n",
    "    \n",
    "print(learning_returns)"
   ]
  },
  {
   "cell_type": "markdown",
   "metadata": {},
   "source": [
    "Let's plot the returns to see if they are roughly monotonically increasing."
   ]
  },
  {
   "cell_type": "code",
   "execution_count": 19,
   "metadata": {},
   "outputs": [
    {
     "data": {
      "image/png": "[encoded data removed]",
      "text/plain": [
       "<Figure size 432x288 with 1 Axes>"
      ]
     },
     "metadata": {},
     "output_type": "display_data"
    }
   ],
   "source": [
    "plt.plot(learning_returns)\n",
    "plt.xlabel(\"Demonstration\")\n",
    "plt.ylabel(\"Return\")\n",
    "plt.savefig(\"hopper.png\")\n",
    "plt.show()"
   ]
  },
  {
   "cell_type": "code",
   "execution_count": null,
   "metadata": {},
   "outputs": [],
   "source": [
    "print(len(learning_returns))\n",
    "print(len(demonstrations))\n",
    "print([a[0] for a in zip(learning_returns, demonstrations)])\n",
    "#cheat and sort them to see if it helps learning\n",
    "sorted_demos = [x for _, x in sorted(zip(learning_returns,demonstrations), key=lambda pair: pair[0])]\n",
    "\n",
    "sorted_returns = sorted(learning_returns)\n",
    "print(learning_returns)\n",
    "plt.plot(sorted_returns)"
   ]
  },
  {
   "cell_type": "markdown",
   "metadata": {},
   "source": [
    "Split the data into train and validation sets"
   ]
  },
  {
   "cell_type": "code",
   "execution_count": null,
   "metadata": {},
   "outputs": [],
   "source": [
    "train_demos = []\n",
    "train_returns = []\n",
    "valid_demos = []\n",
    "valid_returns = []\n",
    "\n",
    "for i,d in enumerate(sorted_demos):\n",
    "    print(i)\n",
    "    if i % 5 is not 4:\n",
    "        train_demos.append(d)\n",
    "        train_returns.append(sorted_returns[i])\n",
    "    else:\n",
    "        valid_demos.append(d)\n",
    "        valid_returns.append(sorted_returns[i])\n",
    "\n",
    "print(train_returns)\n",
    "print(valid_returns)"
   ]
  },
  {
   "cell_type": "markdown",
   "metadata": {},
   "source": [
    "Now I want to build a neural network to predict the reward the learner is trying to optimize. The inputs are 84x84x4 grayscale images. I'm going to try and use the NIPS architecture from DeepMind."
   ]
  },
  {
   "cell_type": "code",
   "execution_count": null,
   "metadata": {},
   "outputs": [],
   "source": [
    "device = torch.device(\"cuda:0\" if torch.cuda.is_available() else \"cpu\")\n",
    "# Assume that we are on a CUDA machine, then this should print a CUDA device:\n",
    "print(device)"
   ]
  },
  {
   "cell_type": "code",
   "execution_count": null,
   "metadata": {},
   "outputs": [],
   "source": [
    "import torch\n",
    "import torch.nn as nn\n",
    "import torch.nn.functional as F\n",
    "\n",
    "class Net(nn.Module):\n",
    "    def __init__(self, n):\n",
    "        super().__init__()\n",
    "        \n",
    "        self.fc1 = nn.Linear(n, 64)\n",
    "        self.fc2 = nn.Linear(64, 1)\n",
    "        \n",
    "        \n",
    "    def cum_return(self, traj):\n",
    "        '''calculate cumulative return of trajectory'''\n",
    "        sum_rewards = 0\n",
    "        for x in traj:\n",
    "            x = F.leaky_relu(self.fc1(x))\n",
    "            r = torch.sigmoid(self.fc2(x)) #clip reward?\n",
    "            sum_rewards += r\n",
    "        ##    y = self.scalar(torch.ones(1))\n",
    "        ##    sum_rewards += y\n",
    "        #print(sum_rewards)\n",
    "        return sum_rewards\n",
    "        \n",
    "            \n",
    "    \n",
    "    def forward(self, traj_i, traj_j):\n",
    "        '''compute cumulative return for each trajectory and return logits'''\n",
    "        #print([self.cum_return(traj_i), self.cum_return(traj_j)])\n",
    "        return torch.cat([self.cum_return(traj_i), self.cum_return(traj_j)])\n",
    "    \n"
   ]
  },
  {
   "cell_type": "markdown",
   "metadata": {},
   "source": [
    "Now we train the network. I'm just going to do it one by one for now. Could adapt it for minibatches to get better gradients"
   ]
  },
  {
   "cell_type": "code",
   "execution_count": null,
   "metadata": {},
   "outputs": [],
   "source": [
    "def learn_reward(reward_network, optimizer, trajectories, num_iter):\n",
    "    loss_criterion = nn.CrossEntropyLoss()\n",
    "    #print(training_data[0])\n",
    "    cum_loss = 0.0\n",
    "    for epoch in range(num_iter):\n",
    "        #pick two random trajectories, traj_i and traj_j and give classification label to later one\n",
    "        j = np.random.randint(len(trajectories)) \n",
    "        i = np.random.randint(len(trajectories))\n",
    "        while(i == j):\n",
    "            i = np.random.randint(len(trajectories))\n",
    "        #print(i,j)\n",
    "        #traj_i = np.array([[d[0]] for d in trajectories[i]])\n",
    "        #traj_j = np.array([[d[0]] for d in trajectories[j]])\n",
    "        traj_i = np.array(trajectories[i])\n",
    "        traj_j = np.array(trajectories[j])\n",
    "        #print(\"orig trajs\")\n",
    "        #print(traj_i)\n",
    "        #print(traj_j)\n",
    "        \n",
    "        if i > j:\n",
    "            labels = np.array([[0]])\n",
    "        else:\n",
    "            labels = np.array([[1]])\n",
    "            \n",
    "        traj_i = torch.from_numpy(traj_i).float().to(device)\n",
    "        traj_j = torch.from_numpy(traj_j).float().to(device)\n",
    "        labels = torch.from_numpy(labels).to(device)\n",
    "        #print(\"trajs\")\n",
    "        #print(traj_i)\n",
    "        #print(traj_j)\n",
    "        \n",
    "        #zero out gradient\n",
    "        optimizer.zero_grad()\n",
    "\n",
    "        #forward + backward + optimize\n",
    "        outputs = reward_network.forward(traj_i, traj_j).unsqueeze(0)\n",
    "        #print(outputs)\n",
    "        #print(labels)\n",
    "        loss = loss_criterion(outputs, labels)\n",
    "        loss.backward()\n",
    "        optimizer.step()\n",
    "\n",
    "        #print stats to see if learning\n",
    "        item_loss = loss.item()\n",
    "        cum_loss += item_loss\n",
    "        if epoch % 50 == 49:\n",
    "            #with torch.no_grad():\n",
    "            #    print(torch.cat([reward_network.cum_return(torch.from_numpy(np.array(traj)).float()) for traj in trajectories]))\n",
    "            print(epoch, cum_loss / 50)\n",
    "            cum_loss = 0.0\n",
    "    print(\"finished training\")\n",
    "\n",
    "\n",
    "\n",
    "        \n",
    "    "
   ]
  },
  {
   "cell_type": "markdown",
   "metadata": {},
   "source": [
    "Now we create a reward network and optimize it using the training data."
   ]
  },
  {
   "cell_type": "code",
   "execution_count": null,
   "metadata": {},
   "outputs": [],
   "source": [
    "#doesn't work on my laptop, CUDA out of memory!!!\n",
    "reward = Net()\n",
    "#reward.to(device)\n",
    "import torch.optim as optim\n",
    "optimizer = optim.Adam(reward.parameters(), lr = 0.00001, weight_decay=0.001)\n",
    "learn_reward(reward, optimizer, train_demos, 200)"
   ]
  },
  {
   "cell_type": "markdown",
   "metadata": {},
   "source": [
    "Print out learned return for all demos. should be roughly increasing"
   ]
  },
  {
   "cell_type": "code",
   "execution_count": null,
   "metadata": {},
   "outputs": [],
   "source": [
    "with torch.no_grad():\n",
    "    print(torch.cat([reward.cum_return(torch.from_numpy(np.array(traj)).float().to(device)) for traj in demonstrations]))"
   ]
  },
  {
   "cell_type": "markdown",
   "metadata": {},
   "source": [
    "Look at predicted reward over last demo. It's all +1 since demos are monotonically increasing. Maybe need to truncate demos to fixed length?"
   ]
  },
  {
   "cell_type": "code",
   "execution_count": null,
   "metadata": {},
   "outputs": [],
   "source": [
    "\n",
    "#for last demo\n",
    "\n",
    "cnt = 0\n",
    "with torch.no_grad():\n",
    "    for d in demonstrations:\n",
    "        rewards = []\n",
    "        print(cnt)\n",
    "        for s in d:\n",
    "            r = reward.cum_return(torch.from_numpy(np.array([s])).float().to(device)).item()\n",
    "            rewards.append(r)\n",
    "        plt.figure(cnt)\n",
    "        plt.plot(rewards)\n",
    "        plt.xlabel(\"time\")\n",
    "        plt.ylabel(\"reward\")\n",
    "        plt.title(\"true return = {}\".format(learning_returns[cnt]))\n",
    "        cnt += 1\n",
    "#plt.savefig(\"learned_mcar_return.png\")\n",
    "plt.show()\n"
   ]
  },
  {
   "cell_type": "markdown",
   "metadata": {},
   "source": [
    "Trying shorter snippets of the demos, should use a sliding window over all demos to get lots of training data, but just  trying the last H frames for now, where H is length of first (the shortest) demo "
   ]
  },
  {
   "cell_type": "code",
   "execution_count": null,
   "metadata": {},
   "outputs": [],
   "source": [
    "H = len(train_demos[0])\n",
    "print(H)\n",
    "demos_fh = [d[len(d)-H:-1] for d in train_demos]\n",
    "print(len(demos_fh))\n",
    "reward_fh = Net()\n",
    "reward_fh.to(device)\n",
    "import torch.optim as optim\n",
    "optimizer = optim.Adam(reward_fh.parameters(),  lr = 0.0001)\n",
    "learn_reward(reward_fh, optimizer, demos_fh, 2000)"
   ]
  },
  {
   "cell_type": "markdown",
   "metadata": {},
   "source": [
    "See what predicted returns look like compared to actual"
   ]
  },
  {
   "cell_type": "code",
   "execution_count": null,
   "metadata": {},
   "outputs": [],
   "source": [
    "with torch.no_grad():\n",
    "    pred_returns = [reward_fh.cum_return(torch.from_numpy(np.array(traj)).float().to(device)).item() for traj in train_demos]\n",
    "for i, p in enumerate(pred_returns):\n",
    "    print(i,p,train_returns[i])"
   ]
  },
  {
   "cell_type": "code",
   "execution_count": null,
   "metadata": {},
   "outputs": [],
   "source": [
    "#print out the actual time series of rewards predicted by nnet for each trajectory.\n",
    "#They are monotonically increasing, so that's good!\n",
    "for d in demos_fh:\n",
    "    print(len(d))\n",
    "\n",
    "cnt = 0\n",
    "with torch.no_grad():\n",
    "    for d in train_demos:\n",
    "        rewards = []\n",
    "        print(cnt)\n",
    "        for s in d:\n",
    "            r = reward_fh.cum_return(torch.from_numpy(np.array([s])).float().to(device)).item()\n",
    "            rewards.append(r)\n",
    "        plt.figure(cnt)\n",
    "        plt.plot(rewards)\n",
    "        plt.xlabel(\"time\")\n",
    "        plt.ylabel(\"reward\")\n",
    "        plt.title(\"true return = {}\".format(train_returns[cnt]))\n",
    "        cnt += 1\n",
    "#plt.savefig(\"learned_mcar_return.png\")\n",
    "plt.show()"
   ]
  },
  {
   "cell_type": "markdown",
   "metadata": {},
   "source": [
    "Check validation accuracy"
   ]
  },
  {
   "cell_type": "code",
   "execution_count": null,
   "metadata": {},
   "outputs": [],
   "source": [
    "with torch.no_grad():\n",
    "    pred_returns = [reward_fh.cum_return(torch.from_numpy(np.array(traj)).float().to(device)).item() for traj in valid_demos]\n",
    "for i, p in enumerate(pred_returns):\n",
    "    print(i,p,valid_returns[i])"
   ]
  },
  {
   "cell_type": "code",
   "execution_count": null,
   "metadata": {},
   "outputs": [],
   "source": [
    "torch.save(reward_fh.state_dict(), \"./breakout_1_15_lastXreward_sorted.params\")"
   ]
  },
  {
   "cell_type": "markdown",
   "metadata": {},
   "source": [
    "Test reloading policy and see why giving zero reward when I run it inside of PPO.."
   ]
  },
  {
   "cell_type": "code",
   "execution_count": null,
   "metadata": {},
   "outputs": [],
   "source": [
    "test_net = Net()\n",
    "test_net.to(device)\n",
    "test_net.load_state_dict(torch.load(\"./breakout_1_15_lastXreward_sorted.params\"))\n",
    "obs = demonstrations[10][400]\n",
    "plt.imshow(obs[0,:,:,3])\n",
    "with torch.no_grad():\n",
    "    test_r = test_net.cum_return(torch.from_numpy(np.array([obs])).float().to(device)).cpu().numpy().transpose()[0]\n",
    "print(test_r)\n",
    "\n",
    "import pickle\n",
    "filename = 'rand_obs.pkl'\n",
    "outfile = open(filename,'wb')\n",
    "pickle.dump(obs,outfile)\n",
    "outfile.close()"
   ]
  },
  {
   "cell_type": "code",
   "execution_count": null,
   "metadata": {},
   "outputs": [],
   "source": [
    "infile = open(filename,'rb')\n",
    "new_obs = pickle.load(infile)\n",
    "infile.close()\n",
    "(obs == new_obs).all()"
   ]
  }
 ],
 "metadata": {
  "kernelspec": {
   "display_name": "Python 3",
   "language": "python",
   "name": "python3"
  },
  "language_info": {
   "codemirror_mode": {
    "name": "ipython",
    "version": 3
   },
   "file_extension": ".py",
   "mimetype": "text/x-python",
   "name": "python",
   "nbconvert_exporter": "python",
   "pygments_lexer": "ipython3",
   "version": "3.6.5"
  }
 },
 "nbformat": 4,
 "nbformat_minor": 2
}
