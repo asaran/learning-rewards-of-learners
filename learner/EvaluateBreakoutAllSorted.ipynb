{
 "cells": [
  {
   "cell_type": "code",
   "execution_count": 2,
   "metadata": {},
   "outputs": [
    {
     "name": "stdout",
     "output_type": "stream",
     "text": [
      "Logging to /tmp/openai-2018-11-29-11-16-45-710434\n"
     ]
    }
   ],
   "source": [
    "import pickle\n",
    "import gym\n",
    "import time\n",
    "import numpy as np \n",
    "import random\n",
    "import torch\n",
    "from run_test import *\n",
    "%matplotlib inline\n",
    "import matplotlib.pylab as plt\n"
   ]
  },
  {
   "cell_type": "code",
   "execution_count": 2,
   "metadata": {},
   "outputs": [
    {
     "name": "stderr",
     "output_type": "stream",
     "text": [
      "/home/dsbrown/anaconda3/lib/python3.6/site-packages/gym/envs/registration.py:14: PkgResourcesDeprecationWarning: Parameters to load are deprecated.  Call .resolve and .require separately.\n",
      "  result = entry_point.load(False)\n"
     ]
    }
   ],
   "source": [
    "#try it just for two trajectories\n",
    "\n",
    "env_id = \"BreakoutNoFrameskip-v4\"\n",
    "env_type = \"atari\"\n",
    "\n",
    "#env id, env type, num envs, and seed\n",
    "env = make_vec_env(env_id, 'atari', 1, 0,\n",
    "                   wrapper_kwargs={\n",
    "                       'clip_rewards':False,\n",
    "                       'episode_life':False,\n",
    "                   })\n",
    "\n",
    "\n",
    "env = VecFrameStack(env, 4)\n",
    "agent = PPO2Agent(env, env_type)\n",
    "#agent = RandomAgent(env.action_space)"
   ]
  },
  {
   "cell_type": "code",
   "execution_count": 9,
   "metadata": {},
   "outputs": [
    {
     "name": "stdout",
     "output_type": "stream",
     "text": [
      "steps: 2260, return: 405.0\n",
      "steps: 1422, return: 112.0\n",
      "steps: 1144, return: 98.0\n",
      "steps: 1139, return: 45.0\n",
      "steps: 1760, return: 358.0\n",
      "steps: 1929, return: 398.0\n",
      "steps: 2608, return: 427.0\n",
      "steps: 655, return: 16.0\n",
      "steps: 1662, return: 283.0\n",
      "steps: 9832, return: 419.0\n",
      "steps: 2082, return: 398.0\n",
      "steps: 1439, return: 109.0\n",
      "steps: 1420, return: 95.0\n",
      "steps: 1383, return: 235.0\n",
      "steps: 478, return: 24.0\n",
      "steps: 1778, return: 360.0\n",
      "steps: 1412, return: 381.0\n",
      "steps: 1186, return: 67.0\n",
      "steps: 1381, return: 107.0\n",
      "steps: 2477, return: 149.0\n",
      "steps: 1770, return: 293.0\n",
      "steps: 1174, return: 233.0\n",
      "steps: 2591, return: 320.0\n",
      "steps: 1946, return: 293.0\n",
      "steps: 2503, return: 431.0\n",
      "steps: 1643, return: 274.0\n",
      "steps: 1523, return: 201.0\n",
      "steps: 1690, return: 129.0\n",
      "steps: 662, return: 23.0\n",
      "steps: 927, return: 96.0\n",
      "[405.0, 112.0, 98.0, 45.0, 358.0, 398.0, 427.0, 16.0, 283.0, 419.0, 398.0, 109.0, 95.0, 235.0, 24.0, 360.0, 381.0, 67.0, 107.0, 149.0, 293.0, 233.0, 320.0, 293.0, 431.0, 274.0, 201.0, 129.0, 23.0, 96.0]\n"
     ]
    }
   ],
   "source": [
    "learning_returns = []\n",
    "    \n",
    "model_path = \"/home/dsbrown/logs/breakout_all_last_40-ppo2/checkpoints/08120\"\n",
    "\n",
    "agent.load(model_path)\n",
    "episode_count = 30\n",
    "for i in range(episode_count):\n",
    "    done = False\n",
    "    traj = []\n",
    "    r = 0\n",
    "\n",
    "    ob = env.reset()\n",
    "    #traj.append(ob)\n",
    "    #print(ob.shape)\n",
    "    steps = 0\n",
    "    acc_reward = 0\n",
    "    while True:\n",
    "        action = agent.act(ob, r, done)\n",
    "        ob, r, done, _ = env.step(action)\n",
    "        #print(ob.shape)\n",
    "        steps += 1\n",
    "        acc_reward += r[0]\n",
    "        if done:\n",
    "            print(\"steps: {}, return: {}\".format(steps,acc_reward))\n",
    "            break\n",
    "    learning_returns.append(acc_reward)\n",
    "    \n",
    "\n",
    "\n",
    "env.close()\n",
    "\n",
    "\n",
    "    \n",
    "    \n",
    "print(learning_returns)"
   ]
  },
  {
   "cell_type": "code",
   "execution_count": 3,
   "metadata": {},
   "outputs": [],
   "source": [
    "learning_returns = [405.0, 112.0, 98.0, 45.0, 358.0, 398.0, 427.0, 16.0, 283.0, 419.0, 398.0, 109.0, 95.0, 235.0, 24.0, 360.0, 381.0, 67.0, 107.0, 149.0, 293.0, 233.0, 320.0, 293.0, 431.0, 274.0, 201.0, 129.0, 23.0, 96.0]"
   ]
  },
  {
   "cell_type": "code",
   "execution_count": 4,
   "metadata": {},
   "outputs": [
    {
     "data": {
      "text/plain": [
       "[431.0, 16.0, 225.96666666666667]"
      ]
     },
     "execution_count": 4,
     "metadata": {},
     "output_type": "execute_result"
    }
   ],
   "source": [
    "[np.max(learning_returns), np.min(learning_returns), np.mean(learning_returns)]"
   ]
  },
  {
   "cell_type": "code",
   "execution_count": null,
   "metadata": {},
   "outputs": [],
   "source": []
  }
 ],
 "metadata": {
  "kernelspec": {
   "display_name": "Python 3",
   "language": "python",
   "name": "python3"
  },
  "language_info": {
   "codemirror_mode": {
    "name": "ipython",
    "version": 3
   },
   "file_extension": ".py",
   "mimetype": "text/x-python",
   "name": "python",
   "nbconvert_exporter": "python",
   "pygments_lexer": "ipython3",
   "version": "3.6.5"
  }
 },
 "nbformat": 4,
 "nbformat_minor": 2
}
