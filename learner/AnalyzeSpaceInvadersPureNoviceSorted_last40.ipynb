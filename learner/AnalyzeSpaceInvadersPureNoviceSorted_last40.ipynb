{
 "cells": [
  {
   "cell_type": "code",
   "execution_count": 1,
   "metadata": {},
   "outputs": [
    {
     "name": "stdout",
     "output_type": "stream",
     "text": [
      "Logging to /tmp/openai-2018-12-01-14-01-05-434706\n"
     ]
    }
   ],
   "source": [
    "import pickle\n",
    "import gym\n",
    "import time\n",
    "import numpy as np \n",
    "import random\n",
    "import torch\n",
    "from run_test import *\n",
    "%matplotlib inline\n",
    "import matplotlib.pylab as plt\n"
   ]
  },
  {
   "cell_type": "markdown",
   "metadata": {},
   "source": [
    "set up the code for running trajectories with pong\n"
   ]
  },
  {
   "cell_type": "code",
   "execution_count": 3,
   "metadata": {},
   "outputs": [
    {
     "name": "stderr",
     "output_type": "stream",
     "text": [
      "/home/dsbrown/anaconda3/lib/python3.6/site-packages/gym/envs/registration.py:14: PkgResourcesDeprecationWarning: Parameters to load are deprecated.  Call .resolve and .require separately.\n",
      "  result = entry_point.load(False)\n"
     ]
    }
   ],
   "source": [
    "#try it just for two trajectories\n",
    "              \n",
    "env_id = \"SpaceInvadersNoFrameskip-v4\"\n",
    "env_type = \"atari\"\n",
    "env_name = \"spaceinvaders\"\n",
    "reward_net_path = \"spaceinvaders_novice_reward_last40_sorted.params\"\n",
    "\n",
    "#env id, env type, num envs, and seed\n",
    "env = make_vec_env(env_id, 'atari', 1, 0,\n",
    "                   wrapper_kwargs={\n",
    "                       'clip_rewards':False,\n",
    "                       'episode_life':False,\n",
    "                   })\n",
    "\n",
    "\n",
    "env = VecFrameStack(env, 4)\n",
    "agent = PPO2Agent(env, env_type)\n",
    "#agent = RandomAgent(env.action_space)"
   ]
  },
  {
   "cell_type": "code",
   "execution_count": 4,
   "metadata": {},
   "outputs": [],
   "source": [
    "\n",
    "def normalize_state(obs):\n",
    "    obs_highs = env.observation_space.high\n",
    "    obs_lows = env.observation_space.low\n",
    "    #print(obs_highs)\n",
    "    #print(obs_lows)\n",
    "    #return  2.0 * (obs - obs_lows) / (obs_highs - obs_lows) - 1.0\n",
    "    return obs / 255.0\n"
   ]
  },
  {
   "cell_type": "code",
   "execution_count": 5,
   "metadata": {},
   "outputs": [
    {
     "name": "stdout",
     "output_type": "stream",
     "text": [
      "['00100', '00300', '00500', '00700', '00900', '01100', '01300', '01500', '01700', '01900', '02100', '02300', '02500', '02700', '02900', '03100', '03300']\n"
     ]
    }
   ],
   "source": [
    "#generate some trajectories for inspecting learned reward\n",
    "checkpoint_min = 100\n",
    "checkpoint_max = 3200\n",
    "checkpoint_step = 200\n",
    "checkpoints = []\n",
    "for i in range(checkpoint_min, checkpoint_max + checkpoint_step, checkpoint_step):\n",
    "    if i < 1000:\n",
    "        checkpoints.append('00' + str(i))\n",
    "    elif i < 10000:\n",
    "        checkpoints.append('0' + str(i))\n",
    "print(checkpoints)"
   ]
  },
  {
   "cell_type": "code",
   "execution_count": 6,
   "metadata": {
    "scrolled": true
   },
   "outputs": [
    {
     "name": "stdout",
     "output_type": "stream",
     "text": [
      "checkpoint: 00100, steps: 524, return: 175.0\n",
      "traj length 524\n",
      "demo length 0\n",
      "checkpoint: 00300, steps: 760, return: 415.0\n",
      "traj length 760\n",
      "demo length 1\n",
      "checkpoint: 00500, steps: 930, return: 570.0\n",
      "traj length 930\n",
      "demo length 2\n",
      "checkpoint: 00700, steps: 723, return: 580.0\n",
      "traj length 723\n",
      "demo length 3\n",
      "checkpoint: 00900, steps: 1300, return: 810.0\n",
      "traj length 1300\n",
      "demo length 4\n",
      "checkpoint: 01100, steps: 862, return: 545.0\n",
      "traj length 862\n",
      "demo length 5\n",
      "checkpoint: 01300, steps: 970, return: 720.0\n",
      "traj length 970\n",
      "demo length 6\n",
      "checkpoint: 01500, steps: 649, return: 485.0\n",
      "traj length 649\n",
      "demo length 7\n",
      "checkpoint: 01700, steps: 871, return: 740.0\n",
      "traj length 871\n",
      "demo length 8\n",
      "checkpoint: 01900, steps: 748, return: 600.0\n",
      "traj length 748\n",
      "demo length 9\n",
      "checkpoint: 02100, steps: 1147, return: 520.0\n",
      "traj length 1147\n",
      "demo length 10\n",
      "checkpoint: 02300, steps: 1651, return: 1435.0\n",
      "traj length 1651\n",
      "demo length 11\n",
      "checkpoint: 02500, steps: 773, return: 600.0\n",
      "traj length 773\n",
      "demo length 12\n",
      "checkpoint: 02700, steps: 1522, return: 1430.0\n",
      "traj length 1522\n",
      "demo length 12\n",
      "checkpoint: 02900, steps: 1276, return: 1125.0\n",
      "traj length 1276\n",
      "demo length 13\n",
      "checkpoint: 03100, steps: 913, return: 575.0\n",
      "traj length 913\n",
      "demo length 14\n",
      "checkpoint: 03300, steps: 706, return: 600.0\n",
      "traj length 706\n",
      "demo length 15\n",
      "[175.0, 415.0, 570.0, 580.0, 810.0, 545.0, 720.0, 485.0, 740.0, 600.0, 520.0, 1435.0, 1430.0, 1125.0, 575.0]\n"
     ]
    }
   ],
   "source": [
    "demonstrations = []\n",
    "learning_returns = []\n",
    "for checkpoint in checkpoints:\n",
    "    \n",
    "    model_path = \"./models/\" + env_name + \"/checkpoints/\" + checkpoint\n",
    "    \n",
    "    agent.load(model_path)\n",
    "    episode_count = 1\n",
    "    for i in range(episode_count):\n",
    "        done = False\n",
    "        traj = []\n",
    "        r = 0\n",
    "        \n",
    "        ob = env.reset()\n",
    "        #traj.append(ob)\n",
    "        #print(ob.shape)\n",
    "        steps = 0\n",
    "        acc_reward = 0\n",
    "        while True:\n",
    "            action = agent.act(ob, r, done)\n",
    "            ob, r, done, _ = env.step(action)\n",
    "            #print(ob.shape)\n",
    "            traj.append(normalize_state(ob))\n",
    "            steps += 1\n",
    "            acc_reward += r[0]\n",
    "            if done:\n",
    "                print(\"checkpoint: {}, steps: {}, return: {}\".format(checkpoint, steps,acc_reward))\n",
    "                break\n",
    "        print(\"traj length\", len(traj))\n",
    "        print(\"demo length\", len(demonstrations))\n",
    "        if acc_reward not in learning_returns:\n",
    "            demonstrations.append(traj)\n",
    "            learning_returns.append(acc_reward)\n",
    "    \n",
    "\n",
    "\n",
    "env.close()\n",
    "\n",
    "\n",
    "    \n",
    "    \n",
    "print(learning_returns)"
   ]
  },
  {
   "cell_type": "markdown",
   "metadata": {},
   "source": [
    "Let's plot the returns to see if they are roughly monotonically increasing."
   ]
  },
  {
   "cell_type": "code",
   "execution_count": 7,
   "metadata": {},
   "outputs": [
    {
     "name": "stdout",
     "output_type": "stream",
     "text": [
      "15\n",
      "15\n",
      "[175.0, 415.0, 570.0, 580.0, 810.0, 545.0, 720.0, 485.0, 740.0, 600.0, 520.0, 1435.0, 1430.0, 1125.0, 575.0]\n",
      "[175.0, 415.0, 485.0, 520.0, 545.0, 570.0, 575.0, 580.0, 600.0, 720.0, 740.0, 810.0, 1125.0, 1430.0, 1435.0]\n"
     ]
    },
    {
     "data": {
      "text/plain": [
       "[<matplotlib.lines.Line2D at 0x7f99486890b8>]"
      ]
     },
     "execution_count": 7,
     "metadata": {},
     "output_type": "execute_result"
    },
    {
     "data": {
      "image/png": "[encoded data removed]",
      "text/plain": [
       "<Figure size 432x288 with 1 Axes>"
      ]
     },
     "metadata": {},
     "output_type": "display_data"
    }
   ],
   "source": [
    "print(len(learning_returns))\n",
    "print(len(demonstrations))\n",
    "print([a[0] for a in zip(learning_returns, demonstrations)])\n",
    "#cheat and sort them to see if it helps learning\n",
    "sorted_demos = [x for _, x in sorted(zip(learning_returns,demonstrations), key=lambda pair: pair[0])]\n",
    "\n",
    "sorted_returns = sorted(learning_returns)\n",
    "print(sorted_returns)\n",
    "plt.plot(sorted_returns)"
   ]
  },
  {
   "cell_type": "markdown",
   "metadata": {},
   "source": [
    "Let's recreate the network that we previously learned."
   ]
  },
  {
   "cell_type": "code",
   "execution_count": 8,
   "metadata": {},
   "outputs": [
    {
     "name": "stdout",
     "output_type": "stream",
     "text": [
      "cuda:0\n"
     ]
    }
   ],
   "source": [
    "device = torch.device(\"cuda:0\" if torch.cuda.is_available() else \"cpu\")\n",
    "# Assume that we are on a CUDA machine, then this should print a CUDA device:\n",
    "print(device)"
   ]
  },
  {
   "cell_type": "code",
   "execution_count": 9,
   "metadata": {},
   "outputs": [],
   "source": [
    "import torch\n",
    "import torch.nn as nn\n",
    "import torch.nn.functional as F\n",
    "\n",
    "class Net(nn.Module):\n",
    "    def __init__(self):\n",
    "        super().__init__()\n",
    "        \n",
    "        self.conv1 = nn.Conv2d(4, 16, 7, stride=3)\n",
    "        self.conv2 = nn.Conv2d(16, 16, 5, stride=2)\n",
    "        self.conv3 = nn.Conv2d(16, 16, 3, stride=1)\n",
    "        self.conv4 = nn.Conv2d(16, 16, 3, stride=1)\n",
    "        self.fc1 = nn.Linear(1936, 64)\n",
    "        self.fc2 = nn.Linear(64, 1)\n",
    "        \n",
    "        \n",
    "    def cum_return(self, traj):\n",
    "        '''calculate cumulative return of trajectory'''\n",
    "        sum_rewards = 0\n",
    "        for x in traj:\n",
    "            x = x.permute(0,3,1,2) #get into NCHW format\n",
    "            #compute forward pass of reward network\n",
    "            x = F.leaky_relu(self.conv1(x))\n",
    "            x = F.leaky_relu(self.conv2(x))\n",
    "            x = x.view(-1, 1936)\n",
    "            x = F.leaky_relu(self.fc1(x))\n",
    "            r = torch.sigmoid(self.fc2(x)) #clip reward?\n",
    "            sum_rewards += r\n",
    "        ##    y = self.scalar(torch.ones(1))\n",
    "        ##    sum_rewards += y\n",
    "        #print(sum_rewards)\n",
    "        return sum_rewards\n",
    "        \n",
    "            \n",
    "    \n",
    "    def forward(self, traj_i, traj_j):\n",
    "        '''compute cumulative return for each trajectory and return logits'''\n",
    "        #print([self.cum_return(traj_i), self.cum_return(traj_j)])\n",
    "        return torch.cat([self.cum_return(traj_i), self.cum_return(traj_j)])\n",
    "    \n",
    "class SmallNet(nn.Module):\n",
    "    def __init__(self):\n",
    "        super().__init__()\n",
    "        \n",
    "        self.conv1 = nn.Conv2d(4, 8, 8, stride=4)\n",
    "        self.conv2 = nn.Conv2d(8, 16, 4, stride=2)\n",
    "        self.fc1 = nn.Linear(9*9*16, 1)\n",
    "        #self.fc2 = nn.Linear(256, 1)\n",
    "        \n",
    "        \n",
    "    def cum_return(self, traj):\n",
    "        '''calculate cumulative return of trajectory'''\n",
    "        sum_rewards = 0\n",
    "        for x in traj:\n",
    "            x = x.permute(0,3,1,2)\n",
    "            x = F.relu(self.conv1(x))\n",
    "            x = F.relu(self.conv2(x))\n",
    "            x = x.view(-1, 9*9*16)\n",
    "            r = torch.tanh(self.fc1(x))\n",
    "            \n",
    "            sum_rewards += r\n",
    "        ##    y = self.scalar(torch.ones(1))\n",
    "        ##    sum_rewards += y\n",
    "        #print(sum_rewards)\n",
    "        return sum_rewards\n",
    "        \n",
    "            \n",
    "    \n",
    "    def forward(self, traj_i, traj_j):\n",
    "        '''compute cumulative return for each trajectory and return logits'''\n",
    "        #print([self.cum_return(traj_i), self.cum_return(traj_j)])\n",
    "        return torch.cat([self.cum_return(traj_i), self.cum_return(traj_j)])\n",
    "    \n"
   ]
  },
  {
   "cell_type": "markdown",
   "metadata": {},
   "source": [
    "Load previously learned network on space invaders demonstrations"
   ]
  },
  {
   "cell_type": "code",
   "execution_count": 10,
   "metadata": {},
   "outputs": [
    {
     "data": {
      "text/plain": [
       "Net(\n",
       "  (conv1): Conv2d(4, 16, kernel_size=(7, 7), stride=(3, 3))\n",
       "  (conv2): Conv2d(16, 16, kernel_size=(5, 5), stride=(2, 2))\n",
       "  (conv3): Conv2d(16, 16, kernel_size=(3, 3), stride=(1, 1))\n",
       "  (conv4): Conv2d(16, 16, kernel_size=(3, 3), stride=(1, 1))\n",
       "  (fc1): Linear(in_features=1936, out_features=64, bias=True)\n",
       "  (fc2): Linear(in_features=64, out_features=1, bias=True)\n",
       ")"
      ]
     },
     "execution_count": 10,
     "metadata": {},
     "output_type": "execute_result"
    }
   ],
   "source": [
    "reward = Net()\n",
    "reward.load_state_dict(torch.load(reward_net_path))\n",
    "reward.to(device)\n"
   ]
  },
  {
   "cell_type": "markdown",
   "metadata": {},
   "source": [
    "See what predicted returns look like compared to actual"
   ]
  },
  {
   "cell_type": "code",
   "execution_count": 11,
   "metadata": {},
   "outputs": [
    {
     "name": "stdout",
     "output_type": "stream",
     "text": [
      "0 245.87680053710938 175.0\n",
      "1 356.36279296875 415.0\n",
      "2 304.4127502441406 485.0\n",
      "3 537.4100341796875 520.0\n",
      "4 403.9851989746094 545.0\n",
      "5 435.8529968261719 570.0\n",
      "6 427.88720703125 575.0\n",
      "7 338.8404235839844 580.0\n",
      "8 350.55108642578125 600.0\n",
      "9 454.5945129394531 720.0\n",
      "10 408.09088134765625 740.0\n",
      "11 609.4737548828125 810.0\n",
      "12 598.0318603515625 1125.0\n",
      "13 713.317138671875 1430.0\n",
      "14 773.3688354492188 1435.0\n"
     ]
    }
   ],
   "source": [
    "with torch.no_grad():\n",
    "    pred_returns = [reward.cum_return(torch.from_numpy(np.array(traj)).float().to(device)).item() for traj in sorted_demos]\n",
    "for i, p in enumerate(pred_returns):\n",
    "    print(i,p,sorted_returns[i])"
   ]
  },
  {
   "cell_type": "code",
   "execution_count": 12,
   "metadata": {},
   "outputs": [],
   "source": [
    "def convert_range(x,minimum, maximum,a,b):\n",
    "    return (x - minimum)/(maximum - minimum) * (b - a) + a\n"
   ]
  },
  {
   "cell_type": "code",
   "execution_count": 24,
   "metadata": {},
   "outputs": [
    {
     "data": {
      "image/png": "[encoded data removed]",
      "text/plain": [
       "<Figure size 432x360 with 1 Axes>"
      ]
     },
     "metadata": {},
     "output_type": "display_data"
    }
   ],
   "source": [
    "import matplotlib.pylab as pylab\n",
    "params = {'legend.fontsize': 'xx-large',\n",
    "          'figure.figsize': (6, 5),\n",
    "         'axes.labelsize': 'xx-large',\n",
    "         'axes.titlesize':'xx-large',\n",
    "         'xtick.labelsize':'xx-large',\n",
    "         'ytick.labelsize':'xx-large'}\n",
    "buffer_room = 100\n",
    "pylab.rcParams.update(params)\n",
    "plt.plot(sorted_returns, [convert_range(p,max(pred_returns), min(pred_returns),max(sorted_returns), min(sorted_returns)) for p in pred_returns],'o')\n",
    "plt.plot([min(sorted_returns)-buffer_room, max(sorted_returns)+buffer_room],[min(sorted_returns)-buffer_room, max(sorted_returns)+buffer_room],'k--')\n",
    "plt.axis([min(sorted_returns)-buffer_room,max(sorted_returns)+buffer_room,min(sorted_returns)-buffer_room,max(sorted_returns)+buffer_room])\n",
    "plt.xlabel(\"Ground Truth Returns\")\n",
    "plt.ylabel(\"Predicted Returns (normalized)\")\n",
    "plt.tight_layout()\n",
    "plt.savefig(env_name + \"_gt_vs_pred_rewards.png\")\n",
    "\n",
    "#plt.axis('square')\n",
    "\n"
   ]
  },
  {
   "cell_type": "code",
   "execution_count": 25,
   "metadata": {},
   "outputs": [
    {
     "name": "stdout",
     "output_type": "stream",
     "text": [
      "[175.0, 415.0, 570.0, 580.0, 810.0, 545.0, 720.0, 485.0, 740.0, 600.0, 520.0, 1435.0, 1430.0, 1125.0, 575.0]\n",
      "175.0\n",
      "575.0\n",
      "810.0\n",
      "1435.0\n"
     ]
    }
   ],
   "source": [
    "print(learning_returns)\n",
    "returns_to_plot = [175, 575, 810, 1435]\n",
    "demos_to_plot = []\n",
    "for r in returns_to_plot:\n",
    "    for i,d in enumerate(demonstrations):\n",
    "        if learning_returns[i] == r:\n",
    "            print(learning_returns[i])\n",
    "            demos_to_plot.append(d)\n",
    "            break\n"
   ]
  },
  {
   "cell_type": "code",
   "execution_count": 26,
   "metadata": {},
   "outputs": [
    {
     "name": "stdout",
     "output_type": "stream",
     "text": [
      "[175, 575, 810, 1435]\n"
     ]
    }
   ],
   "source": [
    "print(returns_to_plot)"
   ]
  },
  {
   "cell_type": "code",
   "execution_count": 27,
   "metadata": {},
   "outputs": [
    {
     "name": "stdout",
     "output_type": "stream",
     "text": [
      "0\n",
      "1\n",
      "2\n",
      "3\n"
     ]
    },
    {
     "data": {
      "image/png": "[encoded data removed]",
      "text/plain": [
       "<Figure size 1080x360 with 4 Axes>"
      ]
     },
     "metadata": {},
     "output_type": "display_data"
    }
   ],
   "source": [
    "import matplotlib.pylab as pylab\n",
    "params = {'legend.fontsize': 'xx-large',\n",
    "          'figure.figsize': (15, 5),\n",
    "         'axes.labelsize': 'xx-large',\n",
    "         'axes.titlesize':'xx-large',\n",
    "         'xtick.labelsize':'xx-large',\n",
    "         'ytick.labelsize':'xx-large'}\n",
    "pylab.rcParams.update(params)\n",
    "#print out the actual time series of rewards predicted by nnet for each trajectory.\n",
    "cnt = 0\n",
    "with torch.no_grad():\n",
    "    for d in demos_to_plot:\n",
    "        rewards = []\n",
    "        print(cnt)\n",
    "        cnt += 1\n",
    "        for s in d:\n",
    "            r = reward.cum_return(torch.from_numpy(np.array([s])).float().to(device)).item()\n",
    "            #print(r)\n",
    "            rewards.append(r)\n",
    "        if cnt == 1:\n",
    "            ax = plt.subplot(1,4,cnt)\n",
    "            plt.ylabel(\"reward\")\n",
    "        else:\n",
    "            ax2 = plt.subplot(1,4,cnt, sharey=ax)\n",
    "            plt.setp(ax2.get_yticklabels(), visible=False)\n",
    "        plt.plot(rewards[2:-1])\n",
    "        plt.xlabel(\"time\")\n",
    "        \n",
    "        plt.title(\"GT Return = {}\".format(returns_to_plot[cnt-1]))\n",
    "        \n",
    "#plt.savefig(\"learned_mcar_return.png\")\n",
    "plt.tight_layout()\n",
    "plt.savefig(env_name + \"RewardPlots.png\")\n",
    "\n",
    "plt.show()\n"
   ]
  },
  {
   "cell_type": "code",
   "execution_count": 32,
   "metadata": {},
   "outputs": [],
   "source": [
    "#check if loss without training matches what I had before\n",
    "def loss_reward(reward_network, trajectories, num_iter):\n",
    "    loss_criterion = nn.CrossEntropyLoss()\n",
    "    #print(training_data[0])\n",
    "    cum_loss = 0.0\n",
    "    for epoch in range(num_iter):\n",
    "        #pick two random trajectories, traj_i and traj_j and give classification label to later one\n",
    "        j = np.random.randint(len(trajectories)) \n",
    "        i = np.random.randint(len(trajectories))\n",
    "        while(i == j):\n",
    "            i = np.random.randint(len(trajectories))\n",
    "        #print(i,j)\n",
    "        #traj_i = np.array([[d[0]] for d in trajectories[i]])\n",
    "        #traj_j = np.array([[d[0]] for d in trajectories[j]])\n",
    "        traj_i = np.array(trajectories[i])\n",
    "        traj_j = np.array(trajectories[j])\n",
    "        if i > j:\n",
    "            labels = np.array([[0]])\n",
    "        else:\n",
    "            labels = np.array([[1]])\n",
    "            \n",
    "        traj_i = torch.from_numpy(traj_i).float().to(device)\n",
    "        traj_j = torch.from_numpy(traj_j).float().to(device)\n",
    "        labels = torch.from_numpy(labels).to(device)\n",
    "        \n",
    "        #zero out gradient\n",
    "        #optimizer.zero_grad()\n",
    "\n",
    "        #forward + backward + optimize\n",
    "        outputs = reward_network.forward(traj_i, traj_j).unsqueeze(0)\n",
    "        #print(outputs)\n",
    "        #print(labels)\n",
    "        loss = loss_criterion(outputs, labels)\n",
    "        #loss.backward()\n",
    "        #optimizer.step()\n",
    "\n",
    "        #print stats to see if learning\n",
    "        item_loss = loss.item()\n",
    "        cum_loss += item_loss\n",
    "        if epoch % 50 == 49:\n",
    "            #with torch.no_grad():\n",
    "            #    print(torch.cat([reward_network.cum_return(torch.from_numpy(np.array(traj)).float()) for traj in trajectories]))\n",
    "            print(epoch, cum_loss / 50)\n",
    "            cum_loss = 0.0\n",
    "    print(\"finished training\")"
   ]
  },
  {
   "cell_type": "code",
   "execution_count": 34,
   "metadata": {},
   "outputs": [
    {
     "name": "stdout",
     "output_type": "stream",
     "text": [
      "49 0.064114990234375\n",
      "99 0.07234839439392089\n",
      "finished training\n"
     ]
    }
   ],
   "source": [
    "loss_reward(reward, sorted_demos[:8], 100)"
   ]
  },
  {
   "cell_type": "code",
   "execution_count": 35,
   "metadata": {},
   "outputs": [],
   "source": [
    "#Hmm looks pretty good."
   ]
  },
  {
   "cell_type": "code",
   "execution_count": 28,
   "metadata": {},
   "outputs": [
    {
     "name": "stdout",
     "output_type": "stream",
     "text": [
      "0\n",
      "1\n",
      "2\n",
      "3\n",
      "4\n",
      "5\n",
      "6\n",
      "7\n",
      "8\n",
      "9\n",
      "10\n",
      "11\n",
      "12\n",
      "13\n",
      "14\n",
      "min reward 0.4671143591403961\n",
      "max reward 0.47140273451805115\n"
     ]
    }
   ],
   "source": [
    "min_reward = 10 \n",
    "max_reward = -10\n",
    "cnt = 0\n",
    "with torch.no_grad():\n",
    "    for d in sorted_demos:\n",
    "        print(cnt)\n",
    "        cnt += 1\n",
    "        for i,s in enumerate(d[2:-1]):\n",
    "            r = reward.cum_return(torch.from_numpy(np.array([s])).float().to(device)).item()\n",
    "            if r < min_reward:\n",
    "                min_reward = r\n",
    "                min_frame = s\n",
    "                min_frame_i = i+2\n",
    "            elif r > max_reward:\n",
    "                max_reward = r\n",
    "                max_frame = s\n",
    "                max_frame_i = i+2\n",
    "print(\"min reward\", min_reward)\n",
    "print(\"max reward\", max_reward)"
   ]
  },
  {
   "cell_type": "code",
   "execution_count": 29,
   "metadata": {},
   "outputs": [
    {
     "name": "stdout",
     "output_type": "stream",
     "text": [
      "220\n"
     ]
    },
    {
     "data": {
      "image/png": "[encoded data removed]",
      "text/plain": [
       "<Figure size 1080x360 with 4 Axes>"
      ]
     },
     "metadata": {},
     "output_type": "display_data"
    }
   ],
   "source": [
    "print(max_frame_i)\n",
    "for cnt in range(4):\n",
    "    plt.subplot(1,4,cnt+1)\n",
    "    plt.imshow(max_frame[0][:,:,cnt])\n",
    "    plt.axis('off')\n",
    "plt.savefig(env_name + \"_maxreward_obs.png\")\n",
    "#plt.figure(2)\n",
    "#plt.imshow(demonstrations[0][max_frame_i-5][0][:,:,0])\n",
    "#plt.show()"
   ]
  },
  {
   "cell_type": "code",
   "execution_count": 30,
   "metadata": {},
   "outputs": [
    {
     "name": "stdout",
     "output_type": "stream",
     "text": [
      "1188\n"
     ]
    },
    {
     "data": {
      "image/png": "[encoded data removed]",
      "text/plain": [
       "<Figure size 1080x360 with 4 Axes>"
      ]
     },
     "metadata": {},
     "output_type": "display_data"
    }
   ],
   "source": [
    "print(min_frame_i)\n",
    "for cnt in range(4):\n",
    "    plt.subplot(1,4,cnt+1)\n",
    "    plt.imshow(min_frame[0][:,:,cnt])\n",
    "    plt.axis('off')\n",
    "plt.savefig(env_name + \"_minreward_obs.png\")\n",
    "#plt.figure(2)\n",
    "#plt.imshow(demonstrations[0][max_frame_i-5][0][:,:,0])\n",
    "#plt.show()"
   ]
  },
  {
   "cell_type": "code",
   "execution_count": null,
   "metadata": {},
   "outputs": [],
   "source": []
  }
 ],
 "metadata": {
  "kernelspec": {
   "display_name": "Python 3",
   "language": "python",
   "name": "python3"
  },
  "language_info": {
   "codemirror_mode": {
    "name": "ipython",
    "version": 3
   },
   "file_extension": ".py",
   "mimetype": "text/x-python",
   "name": "python",
   "nbconvert_exporter": "python",
   "pygments_lexer": "ipython3",
   "version": "3.6.5"
  }
 },
 "nbformat": 4,
 "nbformat_minor": 2
}
