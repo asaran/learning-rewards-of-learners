{
 "cells": [
  {
   "cell_type": "code",
   "execution_count": 1,
   "metadata": {},
   "outputs": [
    {
     "name": "stdout",
     "output_type": "stream",
     "text": [
      "Logging to /tmp/openai-2019-05-07-16-42-58-147699\n"
     ]
    }
   ],
   "source": [
    "import pickle\n",
    "import gym\n",
    "import time\n",
    "import numpy as np\n",
    "import random\n",
    "import torch\n",
    "import torch.nn as nn\n",
    "import torch.nn.functional as F\n",
    "from run_test import *\n",
    "import atari_head_dataset as ahd \n",
    "import utils"
   ]
  },
  {
   "cell_type": "code",
   "execution_count": 2,
   "metadata": {},
   "outputs": [
    {
     "name": "stdout",
     "output_type": "stream",
     "text": [
      "env name:  mspacman\n",
      "valid trials: ['209_RZ_6964528_Jan-08-10-23-46', '199_RZ_3968652_Dec-04-18-11-43', '202_RZ_4051421_Dec-05-17-16-28']\n",
      "valid trial nums: [209, 199, 202]\n",
      "traj length:  3\n",
      "Max human score 36061\n",
      "Min human score 27731\n",
      "num non duplicate scores 3\n",
      "len demos:  3\n",
      "num img frames:  4450\n",
      "num img frames:  4451\n",
      "num img frames:  4457\n",
      "4447 4447 4447\n"
     ]
    }
   ],
   "source": [
    "data_dir = '../data/atari-head/'\n",
    "env_name = 'mspacman'\n",
    "dataset = ahd.AtariHeadDataset(env_name, data_dir)\n",
    "demonstrations, learning_returns, learning_rewards, _, _ = utils.get_preprocessed_trajectories(env_name, dataset, data_dir)\n"
   ]
  },
  {
   "cell_type": "code",
   "execution_count": null,
   "metadata": {},
   "outputs": [],
   "source": []
  }
 ],
 "metadata": {
  "kernelspec": {
   "display_name": "Python 3",
   "language": "python",
   "name": "python3"
  },
  "language_info": {
   "codemirror_mode": {
    "name": "ipython",
    "version": 3
   },
   "file_extension": ".py",
   "mimetype": "text/x-python",
   "name": "python",
   "nbconvert_exporter": "python",
   "pygments_lexer": "ipython3",
   "version": "3.6.7"
  }
 },
 "nbformat": 4,
 "nbformat_minor": 2
}
