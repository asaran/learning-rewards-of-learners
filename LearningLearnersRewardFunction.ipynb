{
 "cells": [
  {
   "cell_type": "code",
   "execution_count": 2,
   "metadata": {},
   "outputs": [],
   "source": [
    "import pickle\n",
    "from mcar_sarsa_semigrad_TileSutton import ValueFunction, run_episode, getOptimalAction, run_rollout, solve_mdp, evaluate_softmax_policy, evaluate_policy\n",
    "import gym\n",
    "import time\n",
    "import numpy as np \n",
    "import random"
   ]
  },
  {
   "cell_type": "markdown",
   "metadata": {},
   "source": [
    "This code only works for MountainCar right now since I'm using specific Tile Coding software from Rick Sutton but we should be able to plug in any RL algorithm."
   ]
  },
  {
   "cell_type": "code",
   "execution_count": 3,
   "metadata": {},
   "outputs": [
    {
     "name": "stdout",
     "output_type": "stream",
     "text": [
      "\u001b[33mWARN: gym.spaces.Box autodetected dtype as <class 'numpy.float32'>. Please provide explicit dtype.\u001b[0m\n"
     ]
    }
   ],
   "source": [
    "env = gym.make('MountainCar-v0')\n",
    "#set seeds for now\n",
    "#seed = 1234\n",
    "#np.random.seed(seed)\n",
    "#random.seed(seed)\n",
    "#env.seed(seed)"
   ]
  },
  {
   "cell_type": "markdown",
   "metadata": {},
   "source": [
    "Generate learning trajectories using Tile Coding. I don't stop MCar after 200 steps but let it go up to 2000 steps."
   ]
  },
  {
   "cell_type": "code",
   "execution_count": 18,
   "metadata": {},
   "outputs": [
    {
     "name": "stdout",
     "output_type": "stream",
     "text": [
      "-2000.0\n",
      "-393.0\n",
      "-743.0\n",
      "-445.0\n",
      "-421.0\n",
      "ave return = -800.4\n"
     ]
    }
   ],
   "source": [
    "num_demos = 5\n",
    "\n",
    "numOfTilings = 8\n",
    "alpha = 0.5\n",
    "n = 1\n",
    "\n",
    "\n",
    "# use optimistic initial value, so it's ok to set epsilon to 0\n",
    "EPSILON = 0.0\n",
    "discount = 0.999 #using high discount factor\n",
    "\n",
    "vFunction = ValueFunction(alpha, numOfTilings)\n",
    "demonstrations = []\n",
    "learning_returns = []\n",
    "for i in range(num_demos):\n",
    "    r, s, steps = run_episode(env, vFunction, n, False, EPSILON, max_time = 2000)\n",
    "\n",
    "    demonstrations.append(s)\n",
    "    learning_returns.append(r)\n",
    "    print(r)\n",
    "    \n",
    "    \n",
    "print(\"ave return = {}\".format(np.mean(learning_returns)))\n",
    "\n"
   ]
  },
  {
   "cell_type": "markdown",
   "metadata": {},
   "source": [
    "Below are some helper functions for getting argmax action from TileCoding value function and normalizing observations to range [0,1]."
   ]
  },
  {
   "cell_type": "code",
   "execution_count": 20,
   "metadata": {},
   "outputs": [],
   "source": [
    "def argmax_value(state, env):\n",
    "    values = [valueFunction.value(state[0], state[1], a) for a in range(env.action_space.n)]\n",
    "    return np.argmax(values)"
   ]
  },
  {
   "cell_type": "code",
   "execution_count": 21,
   "metadata": {},
   "outputs": [],
   "source": [
    "def normalize_state(obs):\n",
    "    obs_highs = env.observation_space.high\n",
    "    obs_lows = env.observation_space.low\n",
    "    return (obs - obs_lows) / (obs_highs - obs_lows)\n",
    "    "
   ]
  },
  {
   "cell_type": "markdown",
   "metadata": {},
   "source": [
    "Normalize observations"
   ]
  },
  {
   "cell_type": "code",
   "execution_count": 22,
   "metadata": {},
   "outputs": [],
   "source": [
    "normed_demos = [[normalize_state(s) for s in d]for d in demonstrations]\n",
    "demonstrations = normed_demos"
   ]
  },
  {
   "cell_type": "markdown",
   "metadata": {},
   "source": [
    "Now I want to build a neural network to predict the reward the learner is trying to optimize. I'm using a pretty simple network since the state space is just 2-d (pos, vel) and there are not many demonstrations."
   ]
  },
  {
   "cell_type": "code",
   "execution_count": 23,
   "metadata": {},
   "outputs": [],
   "source": [
    "import torch\n",
    "import torch.nn as nn\n",
    "import torch.nn.functional as F\n",
    "\n",
    "class Net(nn.Module):\n",
    "    def __init__(self):\n",
    "        super().__init__()\n",
    "        ##self.scalar = nn.Linear(1,1, bias=False)\n",
    "        self.fc1 = nn.Linear(2,32)\n",
    "        #self.fc2 = nn.Linear(32,32)\n",
    "        self.fc3 = nn.Linear(32,1) #return scalar reward value, linear combination of 32 features.\n",
    "    \n",
    "    def cum_return(self, traj):\n",
    "        '''calculate cumulative return of trajectory'''\n",
    "        sum_rewards = 0\n",
    "        for x in traj:\n",
    "            #compute forward pass of reward network\n",
    "            x = F.relu(self.fc1(x))\n",
    "        #    x = F.relu(self.fc2(x))\n",
    "            r = self.fc3(x)\n",
    "            sum_rewards += r\n",
    "        ##    y = self.scalar(torch.ones(1))\n",
    "        ##    sum_rewards += y\n",
    "        #print(sum_rewards)\n",
    "        return sum_rewards\n",
    "        \n",
    "            \n",
    "    \n",
    "    def forward(self, traj_i, traj_j):\n",
    "        '''compute cumulative return for each trajectory and return logits'''\n",
    "        #print([self.cum_return(traj_i), self.cum_return(traj_j)])\n",
    "        return torch.cat([self.cum_return(traj_i), self.cum_return(traj_j)])\n",
    "    \n"
   ]
  },
  {
   "cell_type": "markdown",
   "metadata": {},
   "source": [
    "Now we train the network. I'm just going to do it one by one for now. Could adapt it for minibatches to get better gradients"
   ]
  },
  {
   "cell_type": "code",
   "execution_count": 24,
   "metadata": {},
   "outputs": [],
   "source": [
    "def learn_reward(reward_network, optimizer, trajectories, num_iter):\n",
    "    loss_criterion = nn.CrossEntropyLoss()\n",
    "    #print(training_data[0])\n",
    "    cum_loss = 0.0\n",
    "    for epoch in range(num_iter):\n",
    "        #pick two random trajectories, traj_i and traj_j such that i > j\n",
    "        j = np.random.randint(len(trajectories)-1) #make sure there is at least one later trajectory\n",
    "        i = np.random.randint(j+1,len(trajectories))\n",
    "        #print(i,j)\n",
    "        #traj_i = np.array([[d[0]] for d in trajectories[i]])\n",
    "        #traj_j = np.array([[d[0]] for d in trajectories[j]])\n",
    "        traj_i = np.array(trajectories[i])\n",
    "        traj_j = np.array(trajectories[j])\n",
    "        labels = np.array([0])\n",
    "        traj_i = torch.from_numpy(traj_i).float()\n",
    "        traj_j = torch.from_numpy(traj_j).float()\n",
    "        labels = torch.from_numpy(labels)\n",
    "        \n",
    "        #zero out gradient\n",
    "        optimizer.zero_grad()\n",
    "\n",
    "        #forward + backward + optimize\n",
    "        outputs = reward_network.forward(traj_i, traj_j).unsqueeze(0)\n",
    "        #print(outputs)\n",
    "        #print(labels)\n",
    "        loss = loss_criterion(outputs, labels)\n",
    "        loss.backward()\n",
    "        optimizer.step()\n",
    "\n",
    "        #print stats to see if learning\n",
    "        item_loss = loss.item()\n",
    "        cum_loss += item_loss\n",
    "        if epoch % 100 == 99:\n",
    "            #with torch.no_grad():\n",
    "            #    print(torch.cat([reward_network.cum_return(torch.from_numpy(np.array(traj)).float()) for traj in trajectories]))\n",
    "            print(epoch, cum_loss / 100)\n",
    "            cum_loss = 0.0\n",
    "    print(\"finished training\")\n",
    "\n",
    "\n",
    "\n",
    "        \n",
    "    "
   ]
  },
  {
   "cell_type": "markdown",
   "metadata": {},
   "source": [
    "Now we create a reward network and optimize it using the training data."
   ]
  },
  {
   "cell_type": "code",
   "execution_count": 26,
   "metadata": {},
   "outputs": [
    {
     "name": "stdout",
     "output_type": "stream",
     "text": [
      "99 56.91188086271286\n",
      "199 12.703585705757142\n",
      "299 12.671289551258088\n",
      "399 11.018318490982056\n",
      "499 23.02617594718933\n",
      "finished training\n"
     ]
    }
   ],
   "source": [
    "reward = Net()\n",
    "import torch.optim as optim\n",
    "optimizer = optim.SGD(reward.parameters(), lr = 0.0001, momentum=0.9)\n",
    "learn_reward(reward, optimizer, demonstrations, 500)"
   ]
  },
  {
   "cell_type": "markdown",
   "metadata": {},
   "source": [
    "Print out learned return for all demos. should be roughly increasing"
   ]
  },
  {
   "cell_type": "code",
   "execution_count": 27,
   "metadata": {},
   "outputs": [
    {
     "name": "stdout",
     "output_type": "stream",
     "text": [
      "tensor([-2150.3616,  -426.8924,  -800.4850,  -481.1498,  -454.7668])\n"
     ]
    }
   ],
   "source": [
    "with torch.no_grad():\n",
    "    print(torch.cat([reward.cum_return(torch.from_numpy(np.array(traj)).float()) for traj in demonstrations]))"
   ]
  },
  {
   "cell_type": "markdown",
   "metadata": {},
   "source": [
    "Look at reward heatmap over position and velocity"
   ]
  },
  {
   "cell_type": "code",
   "execution_count": 28,
   "metadata": {},
   "outputs": [
    {
     "name": "stdout",
     "output_type": "stream",
     "text": [
      "[[-0.93366033 -0.93911934 -0.94457829 ... -0.97691035 -0.97513956\n",
      "  -0.97336882]\n",
      " [-0.9381938  -0.94365275 -0.94911176 ... -0.98041999 -0.9786492\n",
      "  -0.97687846]\n",
      " [-0.94272727 -0.94818628 -0.95364523 ... -0.98426759 -0.98254776\n",
      "  -0.98082799]\n",
      " ...\n",
      " [-1.01484644 -1.01673734 -1.01866961 ... -1.07367182 -1.07361054\n",
      "  -1.07354939]\n",
      " [-1.01254654 -1.01443756 -1.01632845 ... -1.07332599 -1.07326472\n",
      "  -1.07320356]\n",
      " [-1.01024675 -1.01213765 -1.01402855 ... -1.07298017 -1.07291901\n",
      "  -1.07285774]]\n",
      "(50, 50)\n"
     ]
    },
    {
     "data": {
      "image/png": "[encoded data removed]",
      "text/plain": [
       "<Figure size 432x288 with 2 Axes>"
      ]
     },
     "metadata": {},
     "output_type": "display_data"
    }
   ],
   "source": [
    "import seaborn as sns\n",
    "import matplotlib.pylab as plt\n",
    "from matplotlib.ticker import FormatStrFormatter\n",
    "\n",
    "with torch.no_grad():\n",
    "    pv_returns = np.array([[reward.cum_return(torch.from_numpy(np.array([[p,v]])).float()).item() for p in np.linspace(0,1)]\n",
    "                           for v in np.linspace(0,1)])\n",
    "print(pv_returns)\n",
    "#uniform_data = np.array([[0,1,2],[4,3,2],[-1,-2,-10]])\n",
    "#ax = sns.heatmap(uniform_data)\n",
    "ax = sns.heatmap(pv_returns)\n",
    "\n",
    "print(pv_returns.shape)\n",
    "\n",
    "plt.xlabel(\"position\")\n",
    "plt.ylabel(\"velocity\")\n",
    "plt.savefig(\"learned_mcar_return.png\")\n",
    "plt.show()\n"
   ]
  },
  {
   "cell_type": "markdown",
   "metadata": {},
   "source": [
    "Okay. So now we want to optimize a policy using the learned reward to see how well it can perform if we run RL to convergence on it."
   ]
  },
  {
   "cell_type": "code",
   "execution_count": 29,
   "metadata": {},
   "outputs": [],
   "source": [
    "#class that makes a reward function out of a neural network\n",
    "class NNetReward:\n",
    "    def __init__(self,nnet):\n",
    "        self.nnet = nnet\n",
    "    def get_reward(self, state):\n",
    "        #transform to tensor and input to nnet\n",
    "        return self.nnet.cum_return(torch.from_numpy(np.array([state])).float()).item()\n",
    "        "
   ]
  },
  {
   "cell_type": "code",
   "execution_count": 32,
   "metadata": {},
   "outputs": [
    {
     "name": "stdout",
     "output_type": "stream",
     "text": [
      "99 159\n",
      "199 141\n",
      "299 111\n",
      "399 105\n",
      "499 86\n",
      "599 109\n",
      "699 141\n",
      "799 106\n",
      "899 102\n",
      "999 158\n",
      "1099 94\n",
      "1199 86\n",
      "1299 144\n",
      "1399 113\n",
      "1499 147\n",
      "1599 106\n",
      "1699 108\n",
      "1799 137\n",
      "1899 156\n",
      "1999 107\n"
     ]
    }
   ],
   "source": [
    "#Run SARSA tilecoding on learned reward function\n",
    "num_episodes = 1500\n",
    "\n",
    "numOfTilings = 8\n",
    "alpha = 0.5\n",
    "n = 1\n",
    "\n",
    "nn_reward = NNetReward(reward)\n",
    "\n",
    "\n",
    "# use optimistic initial value, so it's ok to set epsilon to 0\n",
    "EPSILON = 0.0\n",
    "discount = 0.999 #using high discount factor\n",
    "\n",
    "apprenticeVFunction = ValueFunction(alpha, numOfTilings)\n",
    "for i in range(num_episodes):\n",
    "    if i % 100 == 99:\n",
    "        print(i, steps)\n",
    "    r, s, steps = run_episode(env, apprenticeVFunction, n, False, EPSILON, max_time = 2000, reward_fn = nn_reward)\n",
    "    \n",
    "print(\"done training\")\n",
    "    \n"
   ]
  },
  {
   "cell_type": "code",
   "execution_count": 34,
   "metadata": {},
   "outputs": [
    {
     "name": "stdout",
     "output_type": "stream",
     "text": [
      "best, worst, average -83.0 -181.0 -103.755\n"
     ]
    }
   ],
   "source": [
    "#evaluate the learned policy\n",
    "returns = evaluate_policy(env, 200, apprenticeVFunction)\n",
    "print(\"best, worst, average\", np.max(returns), np.min(returns), np.mean(returns))"
   ]
  },
  {
   "cell_type": "code",
   "execution_count": 36,
   "metadata": {},
   "outputs": [
    {
     "name": "stdout",
     "output_type": "stream",
     "text": [
      "evaluate demonstrations\n",
      "best worst, average -393.0 -2000.0 -800.4\n"
     ]
    }
   ],
   "source": [
    "print(\"evaluate demonstrations\")\n",
    "demo_returns = learning_returns\n",
    "\n",
    "print(\"best worst, average\", np.max(demo_returns), np.min(demo_returns), np.mean(demo_returns))"
   ]
  }
 ],
 "metadata": {
  "kernelspec": {
   "display_name": "Python 3",
   "language": "python",
   "name": "python3"
  },
  "language_info": {
   "codemirror_mode": {
    "name": "ipython",
    "version": 3
   },
   "file_extension": ".py",
   "mimetype": "text/x-python",
   "name": "python",
   "nbconvert_exporter": "python",
   "pygments_lexer": "ipython3",
   "version": "3.6.5"
  }
 },
 "nbformat": 4,
 "nbformat_minor": 2
}
